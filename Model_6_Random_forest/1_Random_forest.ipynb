{
 "cells": [
  {
   "cell_type": "markdown",
   "id": "91c83d62-274b-4e81-b978-67c0b9c74ef6",
   "metadata": {},
   "source": [
    "# Random forest : "
   ]
  },
  {
   "cell_type": "markdown",
   "id": "14248881-a0fc-46a0-a324-1b2f8553873f",
   "metadata": {},
   "source": [
    "in this lab we will use the random forest model with skicit learn, we will also try with decision trees classifiers "
   ]
  },
  {
   "cell_type": "markdown",
   "id": "0bc58337-4aa2-4c4c-bea7-167a352f8301",
   "metadata": {},
   "source": [
    "### **1. Importing the libiraries :**"
   ]
  },
  {
   "cell_type": "code",
   "execution_count": 1,
   "id": "c8e0d8ac-72aa-4977-9ab7-36b4a07dec8a",
   "metadata": {},
   "outputs": [],
   "source": [
    "import pandas as pd\n",
    "import numpy as np\n",
    "import matplotlib.pyplot as plt\n",
    "from sklearn.tree import DecisionTreeClassifier\n",
    "from sklearn.ensemble import RandomForestClassifier\n",
    "from sklearn.model_selection import train_test_split, GridSearchCV\n",
    "from sklearn.metrics import accuracy_score\n"
   ]
  },
  {
   "cell_type": "markdown",
   "id": "a592c3b8-4a9b-450f-ba64-c8033648e322",
   "metadata": {},
   "source": [
    "### **2. Data set :**"
   ]
  },
  {
   "cell_type": "markdown",
   "id": "def01735-8814-425c-9a65-58e4553a0632",
   "metadata": {},
   "source": [
    "# Use the file \"heart.csv\"\n",
    "This dataset is obtained from Kaggle: **Heart Failure Prediction Dataset**\n",
    "\n",
    "## Attribute Information:\n",
    "1. **Age**: Age of the patient [years]\n",
    "2. **Sex**: Sex of the patient [M: male, F: female]\n",
    "3. **ChestPainType**: Type of chest pain [TA: typical angina, ATA: atypical angina, NAP: non-anginal pain, ASY: asymptomatic]\n",
    "4. **RestingBP**: Resting blood pressure [mm Hg]\n",
    "5. **Cholesterol**: Serum cholesterol [mm/dl]\n",
    "6. **FastingBloodSugar**: Fasting blood sugar [1: if FastingBloodSugar > 120 mg/dl, 0: otherwise]\n",
    "7. **RestingECG**: Resting electrocardiogram results [Normal: normal, ST: presence of ST-T wave abnormality (T wave inversions and/or elevation or depression of > 0.05 mV), LVH: showing probable or definite left ventricular hypertrophy based on Estes' criteria]\n",
    "8. **MaxHeartRate**: Maximum heart rate achieved [Numerical value between 60 and 202]\n",
    "9. **ExerciseInducedAngina**: Exercise-induced angina [Y: yes, N: no]\n",
    "10. **Oldpeak**: Oldpeak = ST depression induced by exercise relative to rest [Numerical value measured in depression]\n",
    "11. **ST_Slope**: The slope of the peak exercise ST segment [Up: upward, Flat: flat, Down: downward]\n",
    "12. **HeartDisease**: Output class [1: heart disease, 0: normal]\n",
    "\n",
    "Let's now load the dataset. As we can see above, the variables:\n",
    "- Sex\n",
    "- ChestPainType\n",
    "- RestingECG\n",
    "- ExerciseInducedAngina\n",
    "- ST_Slope\n",
    "\n",
    "are categorical, so we need to encode them using one-hot encoding.\n"
   ]
  },
  {
   "cell_type": "code",
   "execution_count": 25,
   "id": "2dd7def2-f7f7-4940-831d-074d076924f1",
   "metadata": {},
   "outputs": [
    {
     "name": "stdout",
     "output_type": "stream",
     "text": [
      "   Age Sex ChestPainType  RestingBP  Cholesterol  FastingBS RestingECG  MaxHR ExerciseAngina  Oldpeak ST_Slope  HeartDisease\n",
      "0   40   M           ATA        140          289          0     Normal    172              N      0.0       Up             0\n",
      "1   49   F           NAP        160          180          0     Normal    156              N      1.0     Flat             1\n",
      "2   37   M           ATA        130          283          0         ST     98              N      0.0       Up             0\n",
      "3   48   F           ASY        138          214          0     Normal    108              Y      1.5     Flat             1\n",
      "4   54   M           NAP        150          195          0     Normal    122              N      0.0       Up             0\n"
     ]
    }
   ],
   "source": [
    "df = pd.read_csv(r\"C:\\Users\\hp\\Downloads\\heart.csv\")\n",
    "# Set display options to show all columns\n",
    "pd.set_option('display.max_columns', None)\n",
    "# Reset display options to default if needed\n",
    "# pd.reset_option('display.max_columns')\n",
    "# Print head of the DataFrame on a single line\n",
    "print(df.head().to_string(line_width=float('inf')))"
   ]
  },
  {
   "cell_type": "markdown",
   "id": "29841a98-50fd-4720-a4e1-d4139f5de6b2",
   "metadata": {},
   "source": [
    "<div style=\"text-align: center;\">\n",
    "   <a href=\"https://imgbb.com/\"><img src=\"https://i.ibb.co/98sgRjh/Capture-d-cran-2024-10-14-131747.png\" alt=\"Capture-d-cran-2024-10-14-131747\" border=\"0\"></a>\n",
    "</div>\n"
   ]
  },
  {
   "cell_type": "markdown",
   "id": "dd23108d-a856-47c8-a926-afaf2089bfe8",
   "metadata": {},
   "source": [
    "### **3. One hot encoding with pandas (python):**"
   ]
  },
  {
   "cell_type": "markdown",
   "id": "d678c60d-b647-42ce-97e9-da42625ebdf9",
   "metadata": {},
   "source": [
    "First, we will remove the binary variables since one-hot encoding them wouldn’t change anything. To do this, we will simply count how many different values there are in each categorical variable and consider only those variables with 3 or more values.\n",
    "\n",
    "Pandas has a built-in method for one-hot encoding variables, which is the function `pd.get_dummies`. This function has several arguments, but here we will only use a few. These are:\n",
    "- `data`: DataFrame to be used\n",
    "- `prefix`: A list of prefixes, to know which value we are processing\n",
    "- `columns`: The list of columns to be one-hot encoded. 'prefix' and 'columns' must have the same length.\n"
   ]
  },
  {
   "cell_type": "code",
   "execution_count": 26,
   "id": "b2b573c5-7227-463d-a9a0-e826fd6afdae",
   "metadata": {},
   "outputs": [
    {
     "data": {
      "text/html": [
       "<div>\n",
       "<style scoped>\n",
       "    .dataframe tbody tr th:only-of-type {\n",
       "        vertical-align: middle;\n",
       "    }\n",
       "\n",
       "    .dataframe tbody tr th {\n",
       "        vertical-align: top;\n",
       "    }\n",
       "\n",
       "    .dataframe thead th {\n",
       "        text-align: right;\n",
       "    }\n",
       "</style>\n",
       "<table border=\"1\" class=\"dataframe\">\n",
       "  <thead>\n",
       "    <tr style=\"text-align: right;\">\n",
       "      <th></th>\n",
       "      <th>Age</th>\n",
       "      <th>RestingBP</th>\n",
       "      <th>Cholesterol</th>\n",
       "      <th>FastingBS</th>\n",
       "      <th>MaxHR</th>\n",
       "      <th>Oldpeak</th>\n",
       "      <th>HeartDisease</th>\n",
       "      <th>Sex_F</th>\n",
       "      <th>Sex_M</th>\n",
       "      <th>ChestPainType_ASY</th>\n",
       "      <th>ChestPainType_ATA</th>\n",
       "      <th>ChestPainType_NAP</th>\n",
       "      <th>ChestPainType_TA</th>\n",
       "      <th>RestingECG_LVH</th>\n",
       "      <th>RestingECG_Normal</th>\n",
       "      <th>RestingECG_ST</th>\n",
       "      <th>ExerciseAngina_N</th>\n",
       "      <th>ExerciseAngina_Y</th>\n",
       "      <th>ST_Slope_Down</th>\n",
       "      <th>ST_Slope_Flat</th>\n",
       "      <th>ST_Slope_Up</th>\n",
       "    </tr>\n",
       "  </thead>\n",
       "  <tbody>\n",
       "    <tr>\n",
       "      <th>0</th>\n",
       "      <td>40</td>\n",
       "      <td>140</td>\n",
       "      <td>289</td>\n",
       "      <td>0</td>\n",
       "      <td>172</td>\n",
       "      <td>0.0</td>\n",
       "      <td>0</td>\n",
       "      <td>False</td>\n",
       "      <td>True</td>\n",
       "      <td>False</td>\n",
       "      <td>True</td>\n",
       "      <td>False</td>\n",
       "      <td>False</td>\n",
       "      <td>False</td>\n",
       "      <td>True</td>\n",
       "      <td>False</td>\n",
       "      <td>True</td>\n",
       "      <td>False</td>\n",
       "      <td>False</td>\n",
       "      <td>False</td>\n",
       "      <td>True</td>\n",
       "    </tr>\n",
       "    <tr>\n",
       "      <th>1</th>\n",
       "      <td>49</td>\n",
       "      <td>160</td>\n",
       "      <td>180</td>\n",
       "      <td>0</td>\n",
       "      <td>156</td>\n",
       "      <td>1.0</td>\n",
       "      <td>1</td>\n",
       "      <td>True</td>\n",
       "      <td>False</td>\n",
       "      <td>False</td>\n",
       "      <td>False</td>\n",
       "      <td>True</td>\n",
       "      <td>False</td>\n",
       "      <td>False</td>\n",
       "      <td>True</td>\n",
       "      <td>False</td>\n",
       "      <td>True</td>\n",
       "      <td>False</td>\n",
       "      <td>False</td>\n",
       "      <td>True</td>\n",
       "      <td>False</td>\n",
       "    </tr>\n",
       "    <tr>\n",
       "      <th>2</th>\n",
       "      <td>37</td>\n",
       "      <td>130</td>\n",
       "      <td>283</td>\n",
       "      <td>0</td>\n",
       "      <td>98</td>\n",
       "      <td>0.0</td>\n",
       "      <td>0</td>\n",
       "      <td>False</td>\n",
       "      <td>True</td>\n",
       "      <td>False</td>\n",
       "      <td>True</td>\n",
       "      <td>False</td>\n",
       "      <td>False</td>\n",
       "      <td>False</td>\n",
       "      <td>False</td>\n",
       "      <td>True</td>\n",
       "      <td>True</td>\n",
       "      <td>False</td>\n",
       "      <td>False</td>\n",
       "      <td>False</td>\n",
       "      <td>True</td>\n",
       "    </tr>\n",
       "    <tr>\n",
       "      <th>3</th>\n",
       "      <td>48</td>\n",
       "      <td>138</td>\n",
       "      <td>214</td>\n",
       "      <td>0</td>\n",
       "      <td>108</td>\n",
       "      <td>1.5</td>\n",
       "      <td>1</td>\n",
       "      <td>True</td>\n",
       "      <td>False</td>\n",
       "      <td>True</td>\n",
       "      <td>False</td>\n",
       "      <td>False</td>\n",
       "      <td>False</td>\n",
       "      <td>False</td>\n",
       "      <td>True</td>\n",
       "      <td>False</td>\n",
       "      <td>False</td>\n",
       "      <td>True</td>\n",
       "      <td>False</td>\n",
       "      <td>True</td>\n",
       "      <td>False</td>\n",
       "    </tr>\n",
       "    <tr>\n",
       "      <th>4</th>\n",
       "      <td>54</td>\n",
       "      <td>150</td>\n",
       "      <td>195</td>\n",
       "      <td>0</td>\n",
       "      <td>122</td>\n",
       "      <td>0.0</td>\n",
       "      <td>0</td>\n",
       "      <td>False</td>\n",
       "      <td>True</td>\n",
       "      <td>False</td>\n",
       "      <td>False</td>\n",
       "      <td>True</td>\n",
       "      <td>False</td>\n",
       "      <td>False</td>\n",
       "      <td>True</td>\n",
       "      <td>False</td>\n",
       "      <td>True</td>\n",
       "      <td>False</td>\n",
       "      <td>False</td>\n",
       "      <td>False</td>\n",
       "      <td>True</td>\n",
       "    </tr>\n",
       "  </tbody>\n",
       "</table>\n",
       "</div>"
      ],
      "text/plain": [
       "   Age  RestingBP  Cholesterol  FastingBS  MaxHR  Oldpeak  HeartDisease  \\\n",
       "0   40        140          289          0    172      0.0             0   \n",
       "1   49        160          180          0    156      1.0             1   \n",
       "2   37        130          283          0     98      0.0             0   \n",
       "3   48        138          214          0    108      1.5             1   \n",
       "4   54        150          195          0    122      0.0             0   \n",
       "\n",
       "   Sex_F  Sex_M  ChestPainType_ASY  ChestPainType_ATA  ChestPainType_NAP  \\\n",
       "0  False   True              False               True              False   \n",
       "1   True  False              False              False               True   \n",
       "2  False   True              False               True              False   \n",
       "3   True  False               True              False              False   \n",
       "4  False   True              False              False               True   \n",
       "\n",
       "   ChestPainType_TA  RestingECG_LVH  RestingECG_Normal  RestingECG_ST  \\\n",
       "0             False           False               True          False   \n",
       "1             False           False               True          False   \n",
       "2             False           False              False           True   \n",
       "3             False           False               True          False   \n",
       "4             False           False               True          False   \n",
       "\n",
       "   ExerciseAngina_N  ExerciseAngina_Y  ST_Slope_Down  ST_Slope_Flat  \\\n",
       "0              True             False          False          False   \n",
       "1              True             False          False           True   \n",
       "2              True             False          False          False   \n",
       "3             False              True          False           True   \n",
       "4              True             False          False          False   \n",
       "\n",
       "   ST_Slope_Up  \n",
       "0         True  \n",
       "1        False  \n",
       "2         True  \n",
       "3        False  \n",
       "4         True  "
      ]
     },
     "execution_count": 26,
     "metadata": {},
     "output_type": "execute_result"
    }
   ],
   "source": [
    "columns = ['Sex',\n",
    "'ChestPainType',\n",
    "'RestingECG',\n",
    "'ExerciseAngina',\n",
    "'ST_Slope'\n",
    "]\n",
    "\n",
    "df = pd.get_dummies(data=df, prefix=columns, columns=columns)\n",
    "df.head()"
   ]
  },
  {
   "cell_type": "code",
   "execution_count": 27,
   "id": "3618c297-c8b5-4979-b607-1d7fc940f11d",
   "metadata": {},
   "outputs": [],
   "source": [
    "# convert the False and True with 0 and 1\n",
    "df = df.astype(int)"
   ]
  },
  {
   "cell_type": "code",
   "execution_count": 28,
   "id": "baed91af-8268-4bb0-a753-b294f74bb394",
   "metadata": {},
   "outputs": [
    {
     "data": {
      "text/html": [
       "<div>\n",
       "<style scoped>\n",
       "    .dataframe tbody tr th:only-of-type {\n",
       "        vertical-align: middle;\n",
       "    }\n",
       "\n",
       "    .dataframe tbody tr th {\n",
       "        vertical-align: top;\n",
       "    }\n",
       "\n",
       "    .dataframe thead th {\n",
       "        text-align: right;\n",
       "    }\n",
       "</style>\n",
       "<table border=\"1\" class=\"dataframe\">\n",
       "  <thead>\n",
       "    <tr style=\"text-align: right;\">\n",
       "      <th></th>\n",
       "      <th>Age</th>\n",
       "      <th>RestingBP</th>\n",
       "      <th>Cholesterol</th>\n",
       "      <th>FastingBS</th>\n",
       "      <th>MaxHR</th>\n",
       "      <th>Oldpeak</th>\n",
       "      <th>HeartDisease</th>\n",
       "      <th>Sex_F</th>\n",
       "      <th>Sex_M</th>\n",
       "      <th>ChestPainType_ASY</th>\n",
       "      <th>ChestPainType_ATA</th>\n",
       "      <th>ChestPainType_NAP</th>\n",
       "      <th>ChestPainType_TA</th>\n",
       "      <th>RestingECG_LVH</th>\n",
       "      <th>RestingECG_Normal</th>\n",
       "      <th>RestingECG_ST</th>\n",
       "      <th>ExerciseAngina_N</th>\n",
       "      <th>ExerciseAngina_Y</th>\n",
       "      <th>ST_Slope_Down</th>\n",
       "      <th>ST_Slope_Flat</th>\n",
       "      <th>ST_Slope_Up</th>\n",
       "    </tr>\n",
       "  </thead>\n",
       "  <tbody>\n",
       "    <tr>\n",
       "      <th>0</th>\n",
       "      <td>40</td>\n",
       "      <td>140</td>\n",
       "      <td>289</td>\n",
       "      <td>0</td>\n",
       "      <td>172</td>\n",
       "      <td>0</td>\n",
       "      <td>0</td>\n",
       "      <td>0</td>\n",
       "      <td>1</td>\n",
       "      <td>0</td>\n",
       "      <td>1</td>\n",
       "      <td>0</td>\n",
       "      <td>0</td>\n",
       "      <td>0</td>\n",
       "      <td>1</td>\n",
       "      <td>0</td>\n",
       "      <td>1</td>\n",
       "      <td>0</td>\n",
       "      <td>0</td>\n",
       "      <td>0</td>\n",
       "      <td>1</td>\n",
       "    </tr>\n",
       "    <tr>\n",
       "      <th>1</th>\n",
       "      <td>49</td>\n",
       "      <td>160</td>\n",
       "      <td>180</td>\n",
       "      <td>0</td>\n",
       "      <td>156</td>\n",
       "      <td>1</td>\n",
       "      <td>1</td>\n",
       "      <td>1</td>\n",
       "      <td>0</td>\n",
       "      <td>0</td>\n",
       "      <td>0</td>\n",
       "      <td>1</td>\n",
       "      <td>0</td>\n",
       "      <td>0</td>\n",
       "      <td>1</td>\n",
       "      <td>0</td>\n",
       "      <td>1</td>\n",
       "      <td>0</td>\n",
       "      <td>0</td>\n",
       "      <td>1</td>\n",
       "      <td>0</td>\n",
       "    </tr>\n",
       "    <tr>\n",
       "      <th>2</th>\n",
       "      <td>37</td>\n",
       "      <td>130</td>\n",
       "      <td>283</td>\n",
       "      <td>0</td>\n",
       "      <td>98</td>\n",
       "      <td>0</td>\n",
       "      <td>0</td>\n",
       "      <td>0</td>\n",
       "      <td>1</td>\n",
       "      <td>0</td>\n",
       "      <td>1</td>\n",
       "      <td>0</td>\n",
       "      <td>0</td>\n",
       "      <td>0</td>\n",
       "      <td>0</td>\n",
       "      <td>1</td>\n",
       "      <td>1</td>\n",
       "      <td>0</td>\n",
       "      <td>0</td>\n",
       "      <td>0</td>\n",
       "      <td>1</td>\n",
       "    </tr>\n",
       "    <tr>\n",
       "      <th>3</th>\n",
       "      <td>48</td>\n",
       "      <td>138</td>\n",
       "      <td>214</td>\n",
       "      <td>0</td>\n",
       "      <td>108</td>\n",
       "      <td>1</td>\n",
       "      <td>1</td>\n",
       "      <td>1</td>\n",
       "      <td>0</td>\n",
       "      <td>1</td>\n",
       "      <td>0</td>\n",
       "      <td>0</td>\n",
       "      <td>0</td>\n",
       "      <td>0</td>\n",
       "      <td>1</td>\n",
       "      <td>0</td>\n",
       "      <td>0</td>\n",
       "      <td>1</td>\n",
       "      <td>0</td>\n",
       "      <td>1</td>\n",
       "      <td>0</td>\n",
       "    </tr>\n",
       "    <tr>\n",
       "      <th>4</th>\n",
       "      <td>54</td>\n",
       "      <td>150</td>\n",
       "      <td>195</td>\n",
       "      <td>0</td>\n",
       "      <td>122</td>\n",
       "      <td>0</td>\n",
       "      <td>0</td>\n",
       "      <td>0</td>\n",
       "      <td>1</td>\n",
       "      <td>0</td>\n",
       "      <td>0</td>\n",
       "      <td>1</td>\n",
       "      <td>0</td>\n",
       "      <td>0</td>\n",
       "      <td>1</td>\n",
       "      <td>0</td>\n",
       "      <td>1</td>\n",
       "      <td>0</td>\n",
       "      <td>0</td>\n",
       "      <td>0</td>\n",
       "      <td>1</td>\n",
       "    </tr>\n",
       "  </tbody>\n",
       "</table>\n",
       "</div>"
      ],
      "text/plain": [
       "   Age  RestingBP  Cholesterol  FastingBS  MaxHR  Oldpeak  HeartDisease  \\\n",
       "0   40        140          289          0    172        0             0   \n",
       "1   49        160          180          0    156        1             1   \n",
       "2   37        130          283          0     98        0             0   \n",
       "3   48        138          214          0    108        1             1   \n",
       "4   54        150          195          0    122        0             0   \n",
       "\n",
       "   Sex_F  Sex_M  ChestPainType_ASY  ChestPainType_ATA  ChestPainType_NAP  \\\n",
       "0      0      1                  0                  1                  0   \n",
       "1      1      0                  0                  0                  1   \n",
       "2      0      1                  0                  1                  0   \n",
       "3      1      0                  1                  0                  0   \n",
       "4      0      1                  0                  0                  1   \n",
       "\n",
       "   ChestPainType_TA  RestingECG_LVH  RestingECG_Normal  RestingECG_ST  \\\n",
       "0                 0               0                  1              0   \n",
       "1                 0               0                  1              0   \n",
       "2                 0               0                  0              1   \n",
       "3                 0               0                  1              0   \n",
       "4                 0               0                  1              0   \n",
       "\n",
       "   ExerciseAngina_N  ExerciseAngina_Y  ST_Slope_Down  ST_Slope_Flat  \\\n",
       "0                 1                 0              0              0   \n",
       "1                 1                 0              0              1   \n",
       "2                 1                 0              0              0   \n",
       "3                 0                 1              0              1   \n",
       "4                 1                 0              0              0   \n",
       "\n",
       "   ST_Slope_Up  \n",
       "0            1  \n",
       "1            0  \n",
       "2            1  \n",
       "3            0  \n",
       "4            1  "
      ]
     },
     "execution_count": 28,
     "metadata": {},
     "output_type": "execute_result"
    }
   ],
   "source": [
    "df.head()"
   ]
  },
  {
   "cell_type": "code",
   "execution_count": 29,
   "id": "5aec879b-4836-4256-8c7c-4790e055304d",
   "metadata": {},
   "outputs": [],
   "source": [
    "# create a variable that contient the input model :\n",
    "features = [i for i in df.columns if i not in 'HeartDisease']"
   ]
  },
  {
   "cell_type": "code",
   "execution_count": 31,
   "id": "96547259-c9c2-4b7c-bfa8-4a7c0169c8f9",
   "metadata": {},
   "outputs": [
    {
     "data": {
      "text/plain": [
       "['Age',\n",
       " 'RestingBP',\n",
       " 'Cholesterol',\n",
       " 'FastingBS',\n",
       " 'MaxHR',\n",
       " 'Oldpeak',\n",
       " 'Sex_F',\n",
       " 'Sex_M',\n",
       " 'ChestPainType_ASY',\n",
       " 'ChestPainType_ATA',\n",
       " 'ChestPainType_NAP',\n",
       " 'ChestPainType_TA',\n",
       " 'RestingECG_LVH',\n",
       " 'RestingECG_Normal',\n",
       " 'RestingECG_ST',\n",
       " 'ExerciseAngina_N',\n",
       " 'ExerciseAngina_Y',\n",
       " 'ST_Slope_Down',\n",
       " 'ST_Slope_Flat',\n",
       " 'ST_Slope_Up']"
      ]
     },
     "execution_count": 31,
     "metadata": {},
     "output_type": "execute_result"
    }
   ],
   "source": [
    "features"
   ]
  },
  {
   "cell_type": "markdown",
   "id": "ea0ec0e3-8a17-4c3f-8759-470c8e7cfc39",
   "metadata": {},
   "source": [
    "### **4. determine the train and test set :**"
   ]
  },
  {
   "cell_type": "code",
   "execution_count": 32,
   "id": "e797647a-ee86-4583-8e91-d7d60cbf454a",
   "metadata": {},
   "outputs": [
    {
     "name": "stdout",
     "output_type": "stream",
     "text": [
      "the train set :  734\n",
      "the test set :  184\n"
     ]
    }
   ],
   "source": [
    "X_train, X_test, Y_train, Y_test = train_test_split(df[features], df['HeartDisease'], test_size=0.2, random_state=42)\n",
    "\n",
    "print('the train set : ', len(X_train))\n",
    "print('the test set : ', len(X_test))"
   ]
  },
  {
   "cell_type": "markdown",
   "id": "6e39ea23-11a1-4406-985c-06df4ea83457",
   "metadata": {},
   "source": [
    "### **5. Desicion tree Model :**"
   ]
  },
  {
   "cell_type": "markdown",
   "id": "7b228476-b3bb-4a4e-81ac-025e9b6e8924",
   "metadata": {},
   "source": [
    "# DecisionTreeClassifier Hyperparameters\n",
    "\n",
    "The `DecisionTreeClassifier` in Scikit-learn has several hyperparameters that can be tuned to optimize the model's performance. Below is a list of the main hyperparameters along with a brief description of each.\n",
    "\n",
    "## Hyperparameters\n",
    "\n",
    "1. **criterion**: \n",
    "   - The function to measure the quality of a split. \n",
    "   - Options: `'gini'` for the Gini impurity and `'entropy'` for information gain.\n",
    "   \n",
    "2. **max_depth**: \n",
    "   - The maximum depth of the tree. \n",
    "   - If `None`, then nodes are expanded until all leaves are pure or until all leaves contain less than `min_samples_split` samples.\n",
    "   \n",
    "3. **min_samples_split**: \n",
    "   - The minimum number of samples required to split an internal node.\n",
    "   - Can be an integer or a float (representing a percentage of the total samples).\n",
    "\n",
    "4. **min_samples_leaf**: \n",
    "   - The minimum number of samples that must be present in a leaf node.\n",
    "   - Can be an integer or a float.\n",
    "\n",
    "5. **max_features**: \n",
    "   - The number of features to consider when looking for the best split.\n",
    "   - Options: `None`, `'auto'`, `'sqrt'`, `'log2'`, or an integer.\n",
    "\n",
    "6. **max_leaf_nodes**: \n",
    "   - If not `None`, the tree will be constrained to have no more than this number of leaf nodes.\n",
    "\n",
    "7. **min_impurity_decrease**: \n",
    "   - A node will be split if this split induces a decrease of the impurity greater than or equal to this value.\n",
    "\n",
    "8. **class_weight**: \n",
    "   - Weights associated with classes in the form `{class_label: weight}`. \n",
    "   - If `None`, all classes are supposed to have weight one.\n",
    "\n",
    "9. **presort**: \n",
    "   - If `True`, the data is presorted to speed up the finding of best splits in the `fit` method. \n",
    "   - (This option is deprecated as of version 0.22.)"
   ]
  },
  {
   "cell_type": "markdown",
   "id": "fef34ef2-d6a5-45a3-bcfc-835941871fd3",
   "metadata": {},
   "source": [
    "**==> with min samples split**:"
   ]
  },
  {
   "cell_type": "code",
   "execution_count": 34,
   "id": "6bbcc885-36ff-49fc-aaca-8e577582d20f",
   "metadata": {},
   "outputs": [],
   "source": [
    "min_samples_split_list = [2,10, 30, 50, 100, 200, 300, 700] ## If the number is an integer, then it is the actual quantity of samples,\n",
    "max_depth_list = [1,2, 3, 4, 8, 16, 32, 64, None] # None means that there is no depth limit."
   ]
  },
  {
   "cell_type": "code",
   "execution_count": 36,
   "id": "3e89c4ea-608c-4a19-9aa5-c201cca4581e",
   "metadata": {},
   "outputs": [
    {
     "data": {
      "image/png": "[encoded data removed]",
      "text/plain": [
       "<Figure size 640x480 with 1 Axes>"
      ]
     },
     "metadata": {},
     "output_type": "display_data"
    }
   ],
   "source": [
    "accuracy_list_train = []\n",
    "accuracy_list_val = []\n",
    "for min_samples_split in min_samples_split_list:\n",
    "    # You can fit the model at the same time you define it, because the fit function returns the fitted estimator.\n",
    "    model = DecisionTreeClassifier(min_samples_split = min_samples_split, random_state =42).fit(X_train,Y_train)\n",
    "    predictions_train = model.predict(X_train) ## The predicted values for the train dataset\n",
    "    predictions_test = model.predict(X_test) ## The predicted values for the test dataset\n",
    "    accuracy_train = accuracy_score(predictions_train,Y_train)\n",
    "    accuracy_test = accuracy_score(predictions_test,Y_test)\n",
    "    accuracy_list_train.append(accuracy_train)\n",
    "    accuracy_list_val.append(accuracy_test)\n",
    "\n",
    "plt.title('Train x Validation metrics')\n",
    "plt.xlabel('min_samples_split')\n",
    "plt.ylabel('accuracy')\n",
    "plt.xticks(ticks = range(len(min_samples_split_list)),labels=min_samples_split_list)\n",
    "plt.plot(accuracy_list_train)\n",
    "plt.plot(accuracy_list_val)\n",
    "plt.legend(['Train','Test'])\n",
    "plt.show()"
   ]
  },
  {
   "cell_type": "markdown",
   "id": "1e4f23dd-5fef-43e4-92e0-5fc2b68364ae",
   "metadata": {},
   "source": [
    "**in the plot we have : if the min samples split increase, overfitting start to decrease !!!!**"
   ]
  },
  {
   "cell_type": "markdown",
   "id": "4add4237-2cbb-4e40-806c-68275d43374a",
   "metadata": {},
   "source": [
    "**==> with the max depth:**"
   ]
  },
  {
   "cell_type": "code",
   "execution_count": 42,
   "id": "e29d943f-de85-44fd-9f1b-ec6dd0fb0a62",
   "metadata": {},
   "outputs": [
    {
     "data": {
      "image/png": "[encoded data removed]",
      "text/plain": [
       "<Figure size 640x480 with 1 Axes>"
      ]
     },
     "metadata": {},
     "output_type": "display_data"
    }
   ],
   "source": [
    "accuracy_list_train = []\n",
    "accuracy_list_val = []\n",
    "for maxi in max_depth_list:\n",
    "    # You can fit the model at the same time you define it, because the fit function returns the fitted estimator.\n",
    "    model = DecisionTreeClassifier(max_depth=maxi, random_state =42).fit(X_train,Y_train)\n",
    "    predictions_train = model.predict(X_train) ## The predicted values for the train dataset\n",
    "    predictions_test = model.predict(X_test) ## The predicted values for the test dataset\n",
    "    accuracy_train = accuracy_score(predictions_train,Y_train)\n",
    "    accuracy_test = accuracy_score(predictions_test,Y_test)\n",
    "    accuracy_list_train.append(accuracy_train)\n",
    "    accuracy_list_val.append(accuracy_test)\n",
    "\n",
    "plt.title('Train x Validation metrics')\n",
    "plt.xlabel('max_depth')\n",
    "plt.ylabel('accuracy')\n",
    "plt.xticks(ticks = range(len(max_depth_list)),labels=max_depth_list)\n",
    "plt.plot(accuracy_list_train)\n",
    "plt.plot(accuracy_list_val)\n",
    "plt.legend(['Train','Test'])\n",
    "plt.show()"
   ]
  },
  {
   "cell_type": "markdown",
   "id": "3a8d9963-e00f-4215-b16d-d6d0d236d471",
   "metadata": {},
   "source": [
    "**In this plot , if we have a small max depth , automaticly the overfitting decrease !**"
   ]
  },
  {
   "cell_type": "markdown",
   "id": "f2f61004-b3ad-462b-b115-c389c0858d86",
   "metadata": {},
   "source": [
    "so in the first time we will choose `maxdepht = 4` and `min samples split = 50`"
   ]
  },
  {
   "cell_type": "code",
   "execution_count": 40,
   "id": "161877e4-6cad-4931-840a-1e9420d850af",
   "metadata": {},
   "outputs": [
    {
     "name": "stdout",
     "output_type": "stream",
     "text": [
      "Decision tree Metrics train:\n",
      "\tAccuracy score:0.8556\n",
      "Decision tree Metrics validation:\n",
      "\tAccuracy score:0.8370\n"
     ]
    }
   ],
   "source": [
    "decision_tree_model1 = DecisionTreeClassifier(min_samples_split =50,max_depth = 4, random_state = 42).fit(X_train, Y_train)\n",
    "print(f\"Decision tree Metrics train:\\n\\tAccuracy score:{accuracy_score(decision_tree_model1.predict(X_train), Y_train):.4f}\")\n",
    "print(f\"Decision tree Metrics validation:\\n\\tAccuracy score:{accuracy_score(decision_tree_model1.predict(X_test), Y_test):.4f}\")"
   ]
  },
  {
   "cell_type": "markdown",
   "id": "896c2325-ceab-4dfd-9c5a-dd4897253a16",
   "metadata": {},
   "source": [
    "in the second time we will choose `maxdepht = 4` and `min samples split = 200`"
   ]
  },
  {
   "cell_type": "code",
   "execution_count": 43,
   "id": "b32372fd-35c0-4c28-9640-dee3ec2a1a34",
   "metadata": {},
   "outputs": [
    {
     "name": "stdout",
     "output_type": "stream",
     "text": [
      "Decision tree Metrics train:\n",
      "\tAccuracy score:0.8351\n",
      "Decision tree Metrics validation:\n",
      "\tAccuracy score:0.8370\n"
     ]
    }
   ],
   "source": [
    "decision_tree_model2 = DecisionTreeClassifier(min_samples_split =200,max_depth = 4, random_state = 42).fit(X_train, Y_train)\n",
    "print(f\"Decision tree Metrics train:\\n\\tAccuracy score:{accuracy_score(decision_tree_model2.predict(X_train), Y_train):.4f}\")\n",
    "print(f\"Decision tree Metrics validation:\\n\\tAccuracy score:{accuracy_score(decision_tree_model2.predict(X_test), Y_test):.4f}\")"
   ]
  },
  {
   "cell_type": "markdown",
   "id": "08fcfba6-4cd1-43af-b07b-cf799e08c723",
   "metadata": {},
   "source": [
    "### **6. The random forest Model :**"
   ]
  },
  {
   "cell_type": "markdown",
   "id": "a58eb4fc-5341-49a8-8ca6-3c1fa561fbee",
   "metadata": {},
   "source": [
    "# Random Forest Algorithm\n",
    "\n",
    "Let's now try the Random Forest algorithm as well, using the Scikit-learn implementation.\n",
    "\n",
    "- All hyperparameters found in the Decision Tree model also exist in this algorithm, as a random forest is an ensemble of many decision trees.\n",
    "- An additional hyperparameter for Random Forest is called `n_estimators`, which is the number of decision trees that make up the random forest.\n",
    "- Remember that a random forest randomly selects a subset of features **and** randomly selects a subset of training examples to train each individual tree.\n",
    "- Following the lessons, if \\( n \\) is the number of features, we will randomly choose \\( \\sqrt{n} \\) of these features to train each individual tree.\n",
    "- Note that you can modify this by setting the `max_features` parameter.\n"
   ]
  },
  {
   "cell_type": "code",
   "execution_count": 44,
   "id": "69ee0789-e270-4ba7-a6b1-c76dee368685",
   "metadata": {},
   "outputs": [],
   "source": [
    "min_samples_split_list = [2,10, 30, 50, 100, 200, 300, 700] ## If the number is an integer, then it is the actual quantity of samples,\n",
    "## If it is a float, then it is the percentage of the dataset\n",
    "max_depth_list = [2, 4, 8, 16, 32, 64, None]\n",
    "n_estimators_list = [10,50,100,500]"
   ]
  },
  {
   "cell_type": "code",
   "execution_count": 46,
   "id": "34cfb2a2-2e66-4e5e-941a-d1ccafcee0e2",
   "metadata": {},
   "outputs": [
    {
     "data": {
      "image/png": "[encoded data removed]",
      "text/plain": [
       "<Figure size 640x480 with 1 Axes>"
      ]
     },
     "metadata": {},
     "output_type": "display_data"
    }
   ],
   "source": [
    "accuracy_list_train = []\n",
    "accuracy_list_val = []\n",
    "for min_samples_split in min_samples_split_list:\n",
    "    # You can fit the model at the same time you define it, because the fit function returns the fitted estimator.\n",
    "    model = RandomForestClassifier(min_samples_split = min_samples_split,random_state =42).fit(X_train,Y_train)\n",
    "    predictions_train = model.predict(X_train) ## The predicted values for the train dataset\n",
    "    predictions_val = model.predict(X_test) ## The predicted values for the test dataset\n",
    "    accuracy_train = accuracy_score(predictions_train, Y_train)\n",
    "    accuracy_val = accuracy_score(predictions_val, Y_test)\n",
    "    accuracy_list_train.append(accuracy_train)\n",
    "    accuracy_list_val.append(accuracy_val)\n",
    "\n",
    "\n",
    "plt.title('Train x Validation metrics')\n",
    "plt.xlabel('min_samples_split')\n",
    "plt.ylabel('accuracy')\n",
    "plt.xticks(ticks = range(len(min_samples_split_list)),labels=min_samples_split_list)\n",
    "plt.plot(accuracy_list_train)\n",
    "plt.plot(accuracy_list_val)\n",
    "plt.legend(['Train','Validation'])\n",
    "plt.show()"
   ]
  },
  {
   "cell_type": "code",
   "execution_count": 47,
   "id": "6d493be3-c957-468b-9543-a9e6e460af49",
   "metadata": {},
   "outputs": [
    {
     "data": {
      "image/png": "[encoded data removed]",
      "text/plain": [
       "<Figure size 640x480 with 1 Axes>"
      ]
     },
     "metadata": {},
     "output_type": "display_data"
    }
   ],
   "source": [
    "accuracy_list_train = []\n",
    "accuracy_list_val = []\n",
    "for maxi in max_depth_list:\n",
    "    # You can fit the model at the same time you define it, because the fit function returns the fitted estimator.\n",
    "    model = RandomForestClassifier(max_depth=maxi,random_state =42).fit(X_train,Y_train)\n",
    "    predictions_train = model.predict(X_train) ## The predicted values for the train dataset\n",
    "    predictions_val = model.predict(X_test) ## The predicted values for the test dataset\n",
    "    accuracy_train = accuracy_score(predictions_train, Y_train)\n",
    "    accuracy_val = accuracy_score(predictions_val, Y_test)\n",
    "    accuracy_list_train.append(accuracy_train)\n",
    "    accuracy_list_val.append(accuracy_val)\n",
    "\n",
    "\n",
    "plt.title('Train x Validation metrics')\n",
    "plt.xlabel('max depth')\n",
    "plt.ylabel('accuracy')\n",
    "plt.xticks(ticks = range(len(max_depth_list)),labels=max_depth_list)\n",
    "plt.plot(accuracy_list_train)\n",
    "plt.plot(accuracy_list_val)\n",
    "plt.legend(['Train','Validation'])\n",
    "plt.show()"
   ]
  },
  {
   "cell_type": "code",
   "execution_count": 48,
   "id": "35b8d52d-2f9c-4442-bc26-d802782159b4",
   "metadata": {},
   "outputs": [
    {
     "data": {
      "image/png": "[encoded data removed]",
      "text/plain": [
       "<Figure size 640x480 with 1 Axes>"
      ]
     },
     "metadata": {},
     "output_type": "display_data"
    }
   ],
   "source": [
    "accuracy_list_train = []\n",
    "accuracy_list_val = []\n",
    "for n in n_estimators_list:\n",
    "    # You can fit the model at the same time you define it, because the fit function returns the fitted estimator.\n",
    "    model = RandomForestClassifier(n_estimators=n,random_state =42).fit(X_train,Y_train)\n",
    "    predictions_train = model.predict(X_train) ## The predicted values for the train dataset\n",
    "    predictions_val = model.predict(X_test) ## The predicted values for the test dataset\n",
    "    accuracy_train = accuracy_score(predictions_train, Y_train)\n",
    "    accuracy_val = accuracy_score(predictions_val, Y_test)\n",
    "    accuracy_list_train.append(accuracy_train)\n",
    "    accuracy_list_val.append(accuracy_val)\n",
    "\n",
    "\n",
    "plt.title('Train x Validation metrics')\n",
    "plt.xlabel('n estimator')\n",
    "plt.ylabel('accuracy')\n",
    "plt.xticks(ticks = range(len(n_estimators_list)),labels=n_estimators_list)\n",
    "plt.plot(accuracy_list_train)\n",
    "plt.plot(accuracy_list_val)\n",
    "plt.legend(['Train','Validation'])\n",
    "plt.show()"
   ]
  },
  {
   "cell_type": "markdown",
   "id": "ab719a71-8d9a-496d-9d45-f226ae46efdc",
   "metadata": {},
   "source": [
    "so we will choose  `max_depth : 16`,   `min_samples_split : 10` and `n_estimators : 100`"
   ]
  },
  {
   "cell_type": "code",
   "execution_count": 56,
   "id": "85fd229b-f60e-46ac-978b-a43177e8a2cf",
   "metadata": {},
   "outputs": [
    {
     "name": "stdout",
     "output_type": "stream",
     "text": [
      "Random forest Metrics train:\n",
      "\tAccuracy score:0.9223\n",
      "\n",
      "Randomforest Metrics test:\n",
      "\tAccuracy score:0.8913\n"
     ]
    }
   ],
   "source": [
    "random_forest_model = RandomForestClassifier(n_estimators = 100, max_depth= 16, min_samples_split = 10).fit(X_train,Y_train)\n",
    "print(f\"Random forest Metrics train:\\n\\tAccuracy score:{accuracy_score(random_forest_model.predict(X_train),Y_train):.4f}\")\n",
    "print(f\"\\nRandomforest Metrics test:\\n\\tAccuracy score:{accuracy_score(random_forest_model.predict(X_test),Y_test):.4f}\")"
   ]
  },
  {
   "cell_type": "markdown",
   "id": "13a8d64d-b421-4a10-8c6e-5e28ae46c05b",
   "metadata": {},
   "source": [
    "### **7. using the GridSearch to choose the best hyperparameters :**"
   ]
  },
  {
   "cell_type": "code",
   "execution_count": 57,
   "id": "8ef131a6-282a-45f9-b2b4-a0a1e2fc6789",
   "metadata": {},
   "outputs": [],
   "source": [
    "param_grid = {'min_samples_split': [2, 10, 30, 50, 100, 200, 300, 700],'max_depth': [2, 4, 8, 16, 32, 64, None],'n_estimators': [10, 50, 100, 500]}"
   ]
  },
  {
   "cell_type": "code",
   "execution_count": 58,
   "id": "0fa49a0c-99ea-4839-85bf-fbb54e0076e0",
   "metadata": {},
   "outputs": [],
   "source": [
    "# Create a RandomForestClassifier\n",
    "random_forest_model1 = RandomForestClassifier(random_state=42)"
   ]
  },
  {
   "cell_type": "code",
   "execution_count": 59,
   "id": "5f22384d-d9c0-4d88-905a-62f008db6692",
   "metadata": {},
   "outputs": [],
   "source": [
    "# Create the GridSearchCV object\n",
    "grid_search = GridSearchCV(estimator=random_forest_model1, param_grid=param_grid, scoring='accuracy')"
   ]
  },
  {
   "cell_type": "code",
   "execution_count": 60,
   "id": "3d58cc14-2f83-4b5f-bb57-eb18ae997f2c",
   "metadata": {},
   "outputs": [
    {
     "data": {
      "text/html": [
       "<style>#sk-container-id-1 {color: black;background-color: white;}#sk-container-id-1 pre{padding: 0;}#sk-container-id-1 div.sk-toggleable {background-color: white;}#sk-container-id-1 label.sk-toggleable__label {cursor: pointer;display: block;width: 100%;margin-bottom: 0;padding: 0.3em;box-sizing: border-box;text-align: center;}#sk-container-id-1 label.sk-toggleable__label-arrow:before {content: \"▸\";float: left;margin-right: 0.25em;color: #696969;}#sk-container-id-1 label.sk-toggleable__label-arrow:hover:before {color: black;}#sk-container-id-1 div.sk-estimator:hover label.sk-toggleable__label-arrow:before {color: black;}#sk-container-id-1 div.sk-toggleable__content {max-height: 0;max-width: 0;overflow: hidden;text-align: left;background-color: #f0f8ff;}#sk-container-id-1 div.sk-toggleable__content pre {margin: 0.2em;color: black;border-radius: 0.25em;background-color: #f0f8ff;}#sk-container-id-1 input.sk-toggleable__control:checked~div.sk-toggleable__content {max-height: 200px;max-width: 100%;overflow: auto;}#sk-container-id-1 input.sk-toggleable__control:checked~label.sk-toggleable__label-arrow:before {content: \"▾\";}#sk-container-id-1 div.sk-estimator input.sk-toggleable__control:checked~label.sk-toggleable__label {background-color: #d4ebff;}#sk-container-id-1 div.sk-label input.sk-toggleable__control:checked~label.sk-toggleable__label {background-color: #d4ebff;}#sk-container-id-1 input.sk-hidden--visually {border: 0;clip: rect(1px 1px 1px 1px);clip: rect(1px, 1px, 1px, 1px);height: 1px;margin: -1px;overflow: hidden;padding: 0;position: absolute;width: 1px;}#sk-container-id-1 div.sk-estimator {font-family: monospace;background-color: #f0f8ff;border: 1px dotted black;border-radius: 0.25em;box-sizing: border-box;margin-bottom: 0.5em;}#sk-container-id-1 div.sk-estimator:hover {background-color: #d4ebff;}#sk-container-id-1 div.sk-parallel-item::after {content: \"\";width: 100%;border-bottom: 1px solid gray;flex-grow: 1;}#sk-container-id-1 div.sk-label:hover label.sk-toggleable__label {background-color: #d4ebff;}#sk-container-id-1 div.sk-serial::before {content: \"\";position: absolute;border-left: 1px solid gray;box-sizing: border-box;top: 0;bottom: 0;left: 50%;z-index: 0;}#sk-container-id-1 div.sk-serial {display: flex;flex-direction: column;align-items: center;background-color: white;padding-right: 0.2em;padding-left: 0.2em;position: relative;}#sk-container-id-1 div.sk-item {position: relative;z-index: 1;}#sk-container-id-1 div.sk-parallel {display: flex;align-items: stretch;justify-content: center;background-color: white;position: relative;}#sk-container-id-1 div.sk-item::before, #sk-container-id-1 div.sk-parallel-item::before {content: \"\";position: absolute;border-left: 1px solid gray;box-sizing: border-box;top: 0;bottom: 0;left: 50%;z-index: -1;}#sk-container-id-1 div.sk-parallel-item {display: flex;flex-direction: column;z-index: 1;position: relative;background-color: white;}#sk-container-id-1 div.sk-parallel-item:first-child::after {align-self: flex-end;width: 50%;}#sk-container-id-1 div.sk-parallel-item:last-child::after {align-self: flex-start;width: 50%;}#sk-container-id-1 div.sk-parallel-item:only-child::after {width: 0;}#sk-container-id-1 div.sk-dashed-wrapped {border: 1px dashed gray;margin: 0 0.4em 0.5em 0.4em;box-sizing: border-box;padding-bottom: 0.4em;background-color: white;}#sk-container-id-1 div.sk-label label {font-family: monospace;font-weight: bold;display: inline-block;line-height: 1.2em;}#sk-container-id-1 div.sk-label-container {text-align: center;}#sk-container-id-1 div.sk-container {/* jupyter's `normalize.less` sets `[hidden] { display: none; }` but bootstrap.min.css set `[hidden] { display: none !important; }` so we also need the `!important` here to be able to override the default hidden behavior on the sphinx rendered scikit-learn.org. See: https://github.com/scikit-learn/scikit-learn/issues/21755 */display: inline-block !important;position: relative;}#sk-container-id-1 div.sk-text-repr-fallback {display: none;}</style><div id=\"sk-container-id-1\" class=\"sk-top-container\"><div class=\"sk-text-repr-fallback\"><pre>GridSearchCV(estimator=RandomForestClassifier(random_state=42),\n",
       "             param_grid={&#x27;max_depth&#x27;: [2, 4, 8, 16, 32, 64, None],\n",
       "                         &#x27;min_samples_split&#x27;: [2, 10, 30, 50, 100, 200, 300,\n",
       "                                               700],\n",
       "                         &#x27;n_estimators&#x27;: [10, 50, 100, 500]},\n",
       "             scoring=&#x27;accuracy&#x27;)</pre><b>In a Jupyter environment, please rerun this cell to show the HTML representation or trust the notebook. <br />On GitHub, the HTML representation is unable to render, please try loading this page with nbviewer.org.</b></div><div class=\"sk-container\" hidden><div class=\"sk-item sk-dashed-wrapped\"><div class=\"sk-label-container\"><div class=\"sk-label sk-toggleable\"><input class=\"sk-toggleable__control sk-hidden--visually\" id=\"sk-estimator-id-1\" type=\"checkbox\" ><label for=\"sk-estimator-id-1\" class=\"sk-toggleable__label sk-toggleable__label-arrow\">GridSearchCV</label><div class=\"sk-toggleable__content\"><pre>GridSearchCV(estimator=RandomForestClassifier(random_state=42),\n",
       "             param_grid={&#x27;max_depth&#x27;: [2, 4, 8, 16, 32, 64, None],\n",
       "                         &#x27;min_samples_split&#x27;: [2, 10, 30, 50, 100, 200, 300,\n",
       "                                               700],\n",
       "                         &#x27;n_estimators&#x27;: [10, 50, 100, 500]},\n",
       "             scoring=&#x27;accuracy&#x27;)</pre></div></div></div><div class=\"sk-parallel\"><div class=\"sk-parallel-item\"><div class=\"sk-item\"><div class=\"sk-label-container\"><div class=\"sk-label sk-toggleable\"><input class=\"sk-toggleable__control sk-hidden--visually\" id=\"sk-estimator-id-2\" type=\"checkbox\" ><label for=\"sk-estimator-id-2\" class=\"sk-toggleable__label sk-toggleable__label-arrow\">estimator: RandomForestClassifier</label><div class=\"sk-toggleable__content\"><pre>RandomForestClassifier(random_state=42)</pre></div></div></div><div class=\"sk-serial\"><div class=\"sk-item\"><div class=\"sk-estimator sk-toggleable\"><input class=\"sk-toggleable__control sk-hidden--visually\" id=\"sk-estimator-id-3\" type=\"checkbox\" ><label for=\"sk-estimator-id-3\" class=\"sk-toggleable__label sk-toggleable__label-arrow\">RandomForestClassifier</label><div class=\"sk-toggleable__content\"><pre>RandomForestClassifier(random_state=42)</pre></div></div></div></div></div></div></div></div></div></div>"
      ],
      "text/plain": [
       "GridSearchCV(estimator=RandomForestClassifier(random_state=42),\n",
       "             param_grid={'max_depth': [2, 4, 8, 16, 32, 64, None],\n",
       "                         'min_samples_split': [2, 10, 30, 50, 100, 200, 300,\n",
       "                                               700],\n",
       "                         'n_estimators': [10, 50, 100, 500]},\n",
       "             scoring='accuracy')"
      ]
     },
     "execution_count": 60,
     "metadata": {},
     "output_type": "execute_result"
    }
   ],
   "source": [
    "# Fit the grid search to the training data\n",
    "grid_search.fit(X_train, Y_train)"
   ]
  },
  {
   "cell_type": "code",
   "execution_count": 61,
   "id": "d92b6c72-f2aa-44f1-a05d-43e36d04143e",
   "metadata": {},
   "outputs": [],
   "source": [
    "# Get the best parameters from the grid search\n",
    "best_params = grid_search.best_params_"
   ]
  },
  {
   "cell_type": "code",
   "execution_count": 63,
   "id": "2bac3456-2a05-4152-86bf-28c96bcd35f9",
   "metadata": {},
   "outputs": [],
   "source": [
    "# Get the best model from the grid search\n",
    "best_model = grid_search.best_estimator_"
   ]
  },
  {
   "cell_type": "code",
   "execution_count": 64,
   "id": "56f5bc98-0cb6-4180-b900-f532932619f8",
   "metadata": {},
   "outputs": [],
   "source": [
    "# Predictions on the validation set using the best model\n",
    "predictions_train= best_model.predict(X_train)\n",
    "predictions_val = best_model.predict(X_test)"
   ]
  },
  {
   "cell_type": "code",
   "execution_count": 65,
   "id": "3b49fc97-d5d8-4e43-9203-d53b201c47bc",
   "metadata": {},
   "outputs": [],
   "source": [
    "# Calculate accuracy on the validation set\n",
    "accuracy_val = accuracy_score(predictions_val, Y_test)"
   ]
  },
  {
   "cell_type": "code",
   "execution_count": 66,
   "id": "f0c933bc-0052-4171-a87c-d082d1f8800d",
   "metadata": {},
   "outputs": [
    {
     "name": "stdout",
     "output_type": "stream",
     "text": [
      "Best Parameters: {'max_depth': 16, 'min_samples_split': 10, 'n_estimators': 500}\n",
      "testing Accuracy: 0.8858695652173914\n",
      "Validation Accuracy: 0.8858695652173914\n"
     ]
    }
   ],
   "source": [
    "# Print the best parameters and validation accuracy\n",
    "print(\"Best Parameters:\", best_params)\n",
    "print(\"testing Accuracy:\", accuracy_val)\n",
    "print(\"Validation Accuracy:\", accuracy_val)"
   ]
  },
  {
   "cell_type": "code",
   "execution_count": null,
   "id": "40ca6ed9-f5b3-4816-af1f-0ebc40a4d67e",
   "metadata": {},
   "outputs": [],
   "source": []
  }
 ],
 "metadata": {
  "kernelspec": {
   "display_name": "Python 3 (ipykernel)",
   "language": "python",
   "name": "python3"
  },
  "language_info": {
   "codemirror_mode": {
    "name": "ipython",
    "version": 3
   },
   "file_extension": ".py",
   "mimetype": "text/x-python",
   "name": "python",
   "nbconvert_exporter": "python",
   "pygments_lexer": "ipython3",
   "version": "3.11.7"
  }
 },
 "nbformat": 4,
 "nbformat_minor": 5
}
