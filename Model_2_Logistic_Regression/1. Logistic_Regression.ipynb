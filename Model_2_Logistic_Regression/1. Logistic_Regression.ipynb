{
 "cells": [
  {
   "cell_type": "markdown",
   "id": "d3a8ccbe-ac89-4bb7-b37f-358366e0a441",
   "metadata": {},
   "source": [
    "# Logistic Regression : "
   ]
  },
  {
   "cell_type": "markdown",
   "id": "e7d2fb15-b495-4542-a9e3-b657e6d778fe",
   "metadata": {},
   "source": [
    "In this lab we will build a logistic regression model and also we will understand how it works , it's necessary to know how the linear regression and polynom regression work, also know the functions as gradient descente and the cost function ."
   ]
  },
  {
   "cell_type": "markdown",
   "id": "ac176f92-6ece-447f-b1ea-e3d60fca3670",
   "metadata": {},
   "source": [
    "### 1.Importing the libiraries : "
   ]
  },
  {
   "cell_type": "code",
   "execution_count": 1,
   "id": "611251ec-eead-4cb5-8e8e-b793cee98233",
   "metadata": {},
   "outputs": [],
   "source": [
    "import numpy as np\n",
    "import matplotlib.pyplot as plt"
   ]
  },
  {
   "cell_type": "markdown",
   "id": "b066c706-79f5-4645-8d9a-f5c68cf0b2ba",
   "metadata": {},
   "source": [
    "### 2.The problem : "
   ]
  },
  {
   "cell_type": "markdown",
   "id": "55e8dc4f-582a-4237-8023-733842d95fea",
   "metadata": {},
   "source": [
    "Suppose you are the administrator of a university department and you want to determine the probability of admission for each candidate based on their results from two exams.\n",
    "\n",
    "- You have historical data from previous candidates that you can use as a training set for logistic regression.\n",
    "- For each training example, you have the candidates' scores from two exams and the admission decision.\n",
    "- our task is to build a classification model that estimates the probability of admission for a candidate based on the scores obtained in these two exams."
   ]
  },
  {
   "cell_type": "markdown",
   "id": "99e99ad2-59a7-43d4-a66d-4b6d6fc3dc43",
   "metadata": {},
   "source": [
    "### 3.data set : "
   ]
  },
  {
   "cell_type": "markdown",
   "id": "3fb32024-5e37-472f-b9e3-0b871ac7065e",
   "metadata": {},
   "source": [
    "The data set contient the exams results and the the admission for each condidate :\n",
    "- X_train : contient the notes of each condidate \n",
    "- Y_train : contient the result \n",
    "* 1 : pass\n",
    "* 0 : not pass "
   ]
  },
  {
   "cell_type": "code",
   "execution_count": 4,
   "id": "ded90b5a-146d-4778-9318-146b753e74d0",
   "metadata": {},
   "outputs": [],
   "source": [
    "def load_data(filename):\n",
    "    data = np.loadtxt(filename, delimiter=',')\n",
    "    X = data[:,:2]\n",
    "    y = data[:,2]\n",
    "    return X, y\n",
    "# load dataset\n",
    "X_train, Y_train = load_data(r\"C:\\Users\\hp\\Documents\\Apprentissage Automatique\\data1.txt\")"
   ]
  },
  {
   "cell_type": "code",
   "execution_count": 5,
   "id": "802b2583-e516-4183-a8de-84a40804ac0d",
   "metadata": {},
   "outputs": [
    {
     "name": "stdout",
     "output_type": "stream",
     "text": [
      "the shape of x_train : (100, 2)\n",
      "the shape of Y_train: (100,)\n"
     ]
    }
   ],
   "source": [
    "print('the shape of x_train :', X_train.shape)\n",
    "print('the shape of Y_train:', Y_train.shape)"
   ]
  },
  {
   "cell_type": "markdown",
   "id": "db395624-183c-4791-a61c-d22692167025",
   "metadata": {},
   "source": [
    "### 4. visualizing the data :\n"
   ]
  },
  {
   "cell_type": "markdown",
   "id": "9bccdc4c-4a2f-481b-99b4-d1847da33472",
   "metadata": {},
   "source": [
    "In this section we will visualize the data using the scatter plot :"
   ]
  },
  {
   "cell_type": "code",
   "execution_count": 9,
   "id": "632e53c1-9d4c-4118-b8ff-434a2e66c0ba",
   "metadata": {},
   "outputs": [
    {
     "data": {
      "image/png": "[encoded data removed]",
      "text/plain": [
       "<Figure size 640x480 with 1 Axes>"
      ]
     },
     "metadata": {},
     "output_type": "display_data"
    }
   ],
   "source": [
    "def plot_data(X, Y, pos_lab = 'Y=1', neg_lab='Y=0'):\n",
    "    pos = Y == 1\n",
    "    neg = Y == 0\n",
    "    plt.plot(X[pos, 0], X[pos, 1], 'k+', label= pos_lab)\n",
    "    plt.plot(X[neg, 0], X[neg, 1], 'yo', label= neg_lab)\n",
    "plot_data(X_train, Y_train[:], pos_lab='pass', neg_lab='not pass')\n",
    "plt.ylabel('exam 2')\n",
    "plt.xlabel('exam 1')\n",
    "plt.legend(loc='upper right')\n",
    "plt.show()"
   ]
  },
  {
   "cell_type": "markdown",
   "id": "a2a25a67-30c4-4a60-8e07-a40493b64364",
   "metadata": {},
   "source": [
    "###### so so the objective is to separate the two colors in the graph ==> logistic regression "
   ]
  },
  {
   "cell_type": "markdown",
   "id": "8bb5abe5-5ab5-4797-8a45-7b22ceb2285b",
   "metadata": {},
   "source": [
    "### 5.The segmoid funtion :"
   ]
  },
  {
   "cell_type": "markdown",
   "id": "206a5898-20b0-4993-a257-2d1fb95070f7",
   "metadata": {},
   "source": [
    "- The segmoid function or logistic function is represented by the formula :  **g(z) = 1 / (1 + e-z)**\n",
    "\n",
    "- so the logistic regression is represented by the formula :   **f w,b(x) = g(wx + b ) = 1 / (1 + e-(wx + b))**"
   ]
  },
  {
   "cell_type": "markdown",
   "id": "40070fe0-03fd-4380-aa63-4153d93165e4",
   "metadata": {},
   "source": [
    "#### Implimentatio of this function :"
   ]
  },
  {
   "cell_type": "code",
   "execution_count": 18,
   "id": "1096758b-e8e9-444a-940e-f2a210f7ed8a",
   "metadata": {},
   "outputs": [],
   "source": [
    "def sigmoid(Z):\n",
    "    '''\n",
    "    z : parameter of the function\n",
    "    Return : the calculation of the formula \n",
    "    '''\n",
    "    return (1 / (1 + np.exp(-Z)))"
   ]
  },
  {
   "cell_type": "code",
   "execution_count": 21,
   "id": "f6577e8c-e0e7-4c76-9f51-458649ae1ee6",
   "metadata": {},
   "outputs": [
    {
     "name": "stdout",
     "output_type": "stream",
     "text": [
      "0.9999999943972036\n",
      "0.7310585786300049\n",
      "2.678636961808078e-33\n"
     ]
    }
   ],
   "source": [
    "## examples :\n",
    "print(sigmoid(19))\n",
    "print(sigmoid(1))\n",
    "print(sigmoid(-75))"
   ]
  },
  {
   "cell_type": "markdown",
   "id": "351ff187-e929-468c-8914-9f0a76b6009a",
   "metadata": {},
   "source": [
    "### 6. The cost function of regression logistic :"
   ]
  },
  {
   "cell_type": "markdown",
   "id": "a25eb764-ad52-47a9-bf6e-6067cb71e81f",
   "metadata": {},
   "source": [
    "- we know the cost function of the linear regression with the formula : **J(w,b) = 1/(2*m) * segma(1-->m)((f(xm) - ym) ** 2 )**\n",
    "- so the same of the logistic regression : **J(w,b) = 1/(2*m) * segma(1-->m)(loss(f(xm), ym))**"
   ]
  },
  {
   "cell_type": "markdown",
   "id": "d1785734-3bf4-49ce-83a2-87f65b367fea",
   "metadata": {},
   "source": [
    "the loss function is :\n",
    "- **loss(f(xm), ym) = -ym * log(f(xm)) -(1-ym) * log(1 - f(xm))**"
   ]
  },
  {
   "cell_type": "markdown",
   "id": "c11292a1-b092-4fe4-b2cf-2b8158e5f979",
   "metadata": {},
   "source": [
    "if the **loss >= 0.5** ==> the predict class is **1**     if not the class is **0**"
   ]
  },
  {
   "cell_type": "markdown",
   "id": "28fed725-c72d-4054-8d9c-92596703f21e",
   "metadata": {},
   "source": [
    "#### Implimetation for this function :"
   ]
  },
  {
   "cell_type": "code",
   "execution_count": 30,
   "id": "6d1aa603-aa76-4f6c-bafb-16fec212474f",
   "metadata": {},
   "outputs": [],
   "source": [
    "def Compute_cost(X, Y, w, b, *argv):\n",
    "    '''\n",
    "    X: the data without the target variable \n",
    "    Y: the target variable \n",
    "    w: the first hyperpatameter of the model\n",
    "    b : the second hyperparameter of the model\n",
    "    *argv : other parameter...\n",
    "    Return: the value of the cost \n",
    "    '''\n",
    "    n, m = X.shape\n",
    "    loss = 0\n",
    "    for i in range(n):\n",
    "        loss += (- Y[i] * np.log(sigmoid(np.dot(X[i], w) + b))) - ((1 - Y[i]) * np.log(1 - sigmoid(np.dot(X[i], w) + b)))\n",
    "\n",
    "    return (1 / (n)) * loss"
   ]
  },
  {
   "cell_type": "code",
   "execution_count": 35,
   "id": "23ff57b9-7b98-422e-ac81-53740e2aa167",
   "metadata": {},
   "outputs": [
    {
     "name": "stdout",
     "output_type": "stream",
     "text": [
      "Cost at initial w and b (zeros):0.693\n",
      "Cost at test w and b (non-zeros): 0.218\n"
     ]
    }
   ],
   "source": [
    "# example :\n",
    "# Compute and display cost with w and b initialized to zeros\n",
    "n, m = X_train.shape\n",
    "initial_w = np.zeros(m)\n",
    "initial_b = 0.\n",
    "cost = Compute_cost(X_train, Y_train, initial_w, initial_b)\n",
    "print('Cost at initial w and b (zeros):{:.3f}'.format(cost))\n",
    "# Compute and display cost with non-zero w and b\n",
    "test_w = np.array([0.2, 0.2])\n",
    "test_b = -24.\n",
    "cost = Compute_cost(X_train, Y_train, test_w, test_b)\n",
    "print('Cost at test w and b (non-zeros): {:.3f}'.format(cost))"
   ]
  },
  {
   "cell_type": "markdown",
   "id": "83131e4b-9830-4a2b-8c4d-f7e3d5920305",
   "metadata": {},
   "source": [
    "### 7. Gradient descente :"
   ]
  },
  {
   "cell_type": "markdown",
   "id": "c48e05cc-5923-4601-97f8-895933a99d4c",
   "metadata": {},
   "source": [
    "we have to calculate two element : the compute gradient and also the algorithm of gradient descente"
   ]
  },
  {
   "cell_type": "markdown",
   "id": "dd747807-2ab1-4ca8-bde7-b4ee8113f117",
   "metadata": {},
   "source": [
    "#### Compute gradient :"
   ]
  },
  {
   "cell_type": "code",
   "execution_count": 44,
   "id": "b5170804-a62a-4ef4-8bc6-b71d068ed867",
   "metadata": {},
   "outputs": [],
   "source": [
    "def Compute_gradient(X, Y, w, b, *argv):\n",
    "    '''\n",
    "    X: the data without the target variable \n",
    "    Y: the target variable \n",
    "    w: the first hyperpatameter of the model\n",
    "    b : the second hyperparameter of the model\n",
    "    *argv : other parameter...\n",
    "    Return: the value of the cost \n",
    "    '''\n",
    "    n, m = X.shape\n",
    "    dj_w = np.zeros(m)\n",
    "    dj_b = 0\n",
    "    for i in range(n):\n",
    "        for j in range(m):\n",
    "            dj_w[j] += (sigmoid(np.dot(X[i], w) + b) - Y[i]) * X[i][j]\n",
    "        dj_b += (sigmoid(np.dot(X[i], w) + b) - Y[i])\n",
    "\n",
    "    dj_w *= (1 / n)\n",
    "    dj_b *= (1 / n)\n",
    "    return dj_w, dj_b"
   ]
  },
  {
   "cell_type": "code",
   "execution_count": 45,
   "id": "cfe065f2-07c3-4887-96a1-3641fbdccab5",
   "metadata": {},
   "outputs": [
    {
     "name": "stdout",
     "output_type": "stream",
     "text": [
      "dj_db at initial w and b (zeros):-0.1\n",
      "dj_dw at initial w and b (zeros):[-12.00921658929115, -11.262842205513591]\n",
      "dj_b at test w and b: -0.5999999999991071\n",
      "dj_w at test w and b: [-44.831353617873795, -44.37384124953979]\n"
     ]
    }
   ],
   "source": [
    "# examples :\n",
    "# Compute and display gradient with w and b initialized to zeros\n",
    "n, m = X_train.shape\n",
    "initial_w = np.zeros(m)\n",
    "initial_b = 0.\n",
    "dj_w, dj_b = Compute_gradient(X_train, Y_train, initial_w, initial_b)\n",
    "print(f'dj_db at initial w and b (zeros):{dj_b}' )\n",
    "print(f'dj_dw at initial w and b (zeros):{dj_w.tolist()}' )\n",
    "# Compute and display cost and gradient with non-zero w and b\n",
    "test_w = np.array([ 0.2, -0.5])\n",
    "test_b = -24\n",
    "dj_w, dj_b = Compute_gradient(X_train, Y_train, test_w, test_b)\n",
    "print('dj_b at test w and b:', dj_b)\n",
    "print('dj_w at test w and b:', dj_w.tolist())"
   ]
  },
  {
   "cell_type": "markdown",
   "id": "473793c4-e729-4672-95af-ba337016410b",
   "metadata": {},
   "source": [
    "#### gradient descente :\n"
   ]
  },
  {
   "cell_type": "code",
   "execution_count": 50,
   "id": "b9f48520-5ff6-41f1-80db-9f3947a18ea0",
   "metadata": {},
   "outputs": [],
   "source": [
    "import math"
   ]
  },
  {
   "cell_type": "code",
   "execution_count": 59,
   "id": "25cdfbfb-e930-42ad-bce1-ebfcb5626808",
   "metadata": {},
   "outputs": [],
   "source": [
    "def gradient_descente(X, Y, w_in, b_in, alpha, num_iter, lambda_):\n",
    "    '''\n",
    "    X: the data without the target variable\n",
    "    Y: the target variable\n",
    "    w_in: the first hyperparameter \n",
    "    b_in: the second hyperparameter\n",
    "    alpha: the learning rate\n",
    "    num_iter: the number of iteration\n",
    "    Return: the optimization of the coefficeints\n",
    "    '''\n",
    "    n = X.shape[0]\n",
    "    J_histo = []\n",
    "    w_histo = []\n",
    "\n",
    "    for i in range(num_iter):\n",
    "        # calculating the compute gradient :\n",
    "        dj_w, dj_b = Compute_gradient(X, Y, w_in, b_in, lambda_)\n",
    "\n",
    "        # updating the the hyperparameters :\n",
    "        w_in = w_in - alpha * dj_w\n",
    "        b_in = b_in - alpha * dj_b\n",
    "\n",
    "        if i < 100000:\n",
    "            cost = Compute_cost(X, Y, w_in, b_in, lambda_)\n",
    "            J_histo.append(cost)\n",
    "\n",
    "\n",
    "        if i % math.ceil(num_iter / 10) == 0 or i == (num_iter - 1):\n",
    "            w_histo.append((w_in, b_in))\n",
    "            print(f\"Iteration {i:4}: Cost {float(J_histo[-1]):8.2f} \")\n",
    "\n",
    "    return w_in, b_in, J_histo, w_histo"
   ]
  },
  {
   "cell_type": "code",
   "execution_count": 68,
   "id": "74e33783-4e85-42bc-80fa-ca0fc83b0487",
   "metadata": {},
   "outputs": [
    {
     "name": "stdout",
     "output_type": "stream",
     "text": [
      "Iteration    0: Cost     0.96 \n",
      "Iteration 1000: Cost     0.31 \n",
      "Iteration 2000: Cost     0.30 \n",
      "Iteration 3000: Cost     0.30 \n",
      "Iteration 4000: Cost     0.30 \n",
      "Iteration 5000: Cost     0.30 \n",
      "Iteration 6000: Cost     0.30 \n",
      "Iteration 7000: Cost     0.30 \n",
      "Iteration 8000: Cost     0.30 \n",
      "Iteration 9000: Cost     0.30 \n",
      "Iteration 9999: Cost     0.30 \n"
     ]
    }
   ],
   "source": [
    "#examples :\n",
    "np.random.seed(1)\n",
    "initial_w = 0.01 * (np.random.rand(2) - 0.5)\n",
    "initial_b = -8\n",
    "# Some gradient descent settings\n",
    "iterations = 10000\n",
    "alpha = 0.001\n",
    "w,b, J_history,_ = gradient_descente(X_train ,Y_train, initial_w, initial_b, alpha, iterations, 0)"
   ]
  },
  {
   "cell_type": "code",
   "execution_count": 69,
   "id": "f4a54564-1f53-4d22-a582-fb9fc29c6368",
   "metadata": {},
   "outputs": [
    {
     "name": "stdout",
     "output_type": "stream",
     "text": [
      "[0.07125355 0.06482888] -8.188622906639248\n"
     ]
    }
   ],
   "source": [
    "print(w, b)"
   ]
  },
  {
   "cell_type": "code",
   "execution_count": 58,
   "id": "56a9e8f9-7ee5-46f0-a320-6c18e8905e40",
   "metadata": {},
   "outputs": [
    {
     "name": "stdout",
     "output_type": "stream",
     "text": [
      "Iteration    0: Cost     0.96 \n",
      "Iteration 10000: Cost     0.30 \n",
      "Iteration 20000: Cost     0.30 \n",
      "Iteration 30000: Cost     0.30 \n",
      "Iteration 40000: Cost     0.29 \n",
      "Iteration 50000: Cost     0.29 \n",
      "Iteration 60000: Cost     0.29 \n",
      "Iteration 70000: Cost     0.28 \n",
      "Iteration 80000: Cost     0.28 \n",
      "Iteration 90000: Cost     0.28 \n",
      "Iteration 99999: Cost     0.28 \n"
     ]
    }
   ],
   "source": [
    "#examples :\n",
    "np.random.seed(1)\n",
    "initial_w = 0.01 * (np.random.rand(2) - 0.5)\n",
    "initial_b = -8\n",
    "# Some gradient descent settings\n",
    "iterations = 100000\n",
    "alpha = 0.001\n",
    "w,b, J_history,_ = gradient_descente(X_train ,Y_train, initial_w, initial_b, alpha, iterations, 0)"
   ]
  },
  {
   "cell_type": "code",
   "execution_count": 60,
   "id": "3fb16ea6-5303-4cc9-8d16-b13709a11fa7",
   "metadata": {},
   "outputs": [
    {
     "name": "stdout",
     "output_type": "stream",
     "text": [
      "[0.08281281 0.0765327 ] -9.663213337784999\n"
     ]
    }
   ],
   "source": [
    "print(w,b)"
   ]
  },
  {
   "cell_type": "markdown",
   "id": "93e0b099-620a-40f0-99a5-37d36d9f00c1",
   "metadata": {},
   "source": [
    "### 8. Implementaion of predict function :"
   ]
  },
  {
   "cell_type": "code",
   "execution_count": 70,
   "id": "f6ea8fc1-b362-4849-b4c9-0248a6755bfb",
   "metadata": {},
   "outputs": [],
   "source": [
    "def Predict(X, w, b):\n",
    "    '''\n",
    "    X: the data without the target varaible\n",
    "    Y: the target varaible\n",
    "    w: the first hyperparameter\n",
    "    b: the second hyperparameter\n",
    "    Return: the predictions !\n",
    "    '''\n",
    "    n, m = X.shape\n",
    "    predictions = np.zeros(n)\n",
    "\n",
    "    for i in range(n):\n",
    "        s = sigmoid(np.dot(X[i], w) + b)\n",
    "        if s >= 0.5 :\n",
    "            predictions[i] = 1\n",
    "        else:\n",
    "            predictions[i] = 0\n",
    "\n",
    "\n",
    "    return predictions"
   ]
  },
  {
   "cell_type": "code",
   "execution_count": 71,
   "id": "7943205c-59fa-4e75-a130-a0a96a1841a3",
   "metadata": {},
   "outputs": [
    {
     "name": "stdout",
     "output_type": "stream",
     "text": [
      "Train Accuracy: 92.000000\n"
     ]
    }
   ],
   "source": [
    "# testing \n",
    "p = Predict(X_train, w, b)\n",
    "print('Train Accuracy: %f'%(np.mean(p == Y_train) * 100))"
   ]
  },
  {
   "cell_type": "markdown",
   "id": "c4d9422c-6338-4961-aa7c-c3dc534ba91a",
   "metadata": {},
   "source": [
    ".............."
   ]
  },
  {
   "cell_type": "code",
   "execution_count": null,
   "id": "ee190d99-0706-42fc-9d15-6963bc0f770f",
   "metadata": {},
   "outputs": [],
   "source": []
  }
 ],
 "metadata": {
  "kernelspec": {
   "display_name": "Python 3 (ipykernel)",
   "language": "python",
   "name": "python3"
  },
  "language_info": {
   "codemirror_mode": {
    "name": "ipython",
    "version": 3
   },
   "file_extension": ".py",
   "mimetype": "text/x-python",
   "name": "python",
   "nbconvert_exporter": "python",
   "pygments_lexer": "ipython3",
   "version": "3.11.7"
  }
 },
 "nbformat": 4,
 "nbformat_minor": 5
}
