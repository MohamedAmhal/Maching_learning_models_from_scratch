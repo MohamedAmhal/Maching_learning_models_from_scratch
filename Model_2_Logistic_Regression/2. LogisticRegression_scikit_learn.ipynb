{
 "cells": [
  {
   "cell_type": "markdown",
   "id": "f6ad94c5-a3ff-458c-9ca5-62478b9f5efc",
   "metadata": {},
   "source": [
    "# Logistic Regression using scikit learn :"
   ]
  },
  {
   "cell_type": "markdown",
   "id": "0553b8f1-f294-4e3b-b529-00d40a0e807d",
   "metadata": {},
   "source": [
    "In this lab we will use the model logistic regression with the scikit Learn "
   ]
  },
  {
   "cell_type": "markdown",
   "id": "deb88f96-46c7-4901-9da6-014eb978ef23",
   "metadata": {},
   "source": [
    "## 1. The problem :\n"
   ]
  },
  {
   "cell_type": "markdown",
   "id": "905887c7-670d-4132-98f7-34d8e78bd859",
   "metadata": {},
   "source": [
    "we will use the same problem in the last lab (Logistic regression from scrach);"
   ]
  },
  {
   "cell_type": "markdown",
   "id": "029d8591-9277-47cb-8bfb-a755c11cb977",
   "metadata": {},
   "source": [
    "## 2.Importing the libiraries :"
   ]
  },
  {
   "cell_type": "code",
   "execution_count": 1,
   "id": "dede65b0-ee49-4507-baf8-56fe2397e34b",
   "metadata": {},
   "outputs": [],
   "source": [
    "import numpy as np\n",
    "import matplotlib.pyplot as plt\n",
    "import seaborn as sns"
   ]
  },
  {
   "cell_type": "markdown",
   "id": "8c367ba7-dbe7-47b1-9728-75aa9e402674",
   "metadata": {},
   "source": [
    "## 3. Data set :"
   ]
  },
  {
   "cell_type": "code",
   "execution_count": 3,
   "id": "0b9b742f-ba93-4a66-917a-eac93b34531e",
   "metadata": {},
   "outputs": [],
   "source": [
    "X = np.array([[0.5, 1.5], [1,1], [1.5, 0.5], [3, 0.5], [2, 2], [1, 2.5]])\n",
    "Y = np.array([0, 0, 0, 1, 1, 1])"
   ]
  },
  {
   "cell_type": "markdown",
   "id": "22e68f09-4b05-48f3-bc1a-5ea42e7256d1",
   "metadata": {},
   "source": [
    "## 4. Using the scikit learn model : "
   ]
  },
  {
   "cell_type": "code",
   "execution_count": 6,
   "id": "63aa918e-340e-442a-996c-5cb5416bd95c",
   "metadata": {},
   "outputs": [
    {
     "name": "stdout",
     "output_type": "stream",
     "text": [
      "w =  [[0.90411349 0.73587543]]\n",
      "b =  [-2.33371631]\n"
     ]
    }
   ],
   "source": [
    "from sklearn.linear_model import LogisticRegression\n",
    "\n",
    "lr = LogisticRegression()\n",
    "lr.fit(X, Y)\n",
    "w = lr.coef_\n",
    "b = lr.intercept_\n",
    "\n",
    "print(\"w = \", w)\n",
    "print(\"b = \", b)"
   ]
  },
  {
   "cell_type": "markdown",
   "id": "4f294b9f-025e-43b3-bb7f-ef753514826d",
   "metadata": {},
   "source": [
    "## 5. The prediction :"
   ]
  },
  {
   "cell_type": "code",
   "execution_count": 7,
   "id": "d9ef8595-5ea8-4561-9645-161c7e1c1e2f",
   "metadata": {},
   "outputs": [
    {
     "name": "stdout",
     "output_type": "stream",
     "text": [
      "Prediction on training set: [0 0 0 1 1 1]\n",
      "Prediction on training set: [1]\n"
     ]
    }
   ],
   "source": [
    "y_predict = lr.predict(X)\n",
    "y_predict1 = lr.predict([[1, 2.5]])\n",
    "print(\"Prediction on training set:\", y_predict)\n",
    "print(\"Prediction on training set:\", y_predict1)"
   ]
  },
  {
   "cell_type": "markdown",
   "id": "09b0703f-3e65-4bed-955e-2c136ade9070",
   "metadata": {},
   "source": [
    "## ......."
   ]
  },
  {
   "cell_type": "code",
   "execution_count": null,
   "id": "eee59946-07c4-4c5a-816e-953c6ebd68ac",
   "metadata": {},
   "outputs": [],
   "source": []
  }
 ],
 "metadata": {
  "kernelspec": {
   "display_name": "Python 3 (ipykernel)",
   "language": "python",
   "name": "python3"
  },
  "language_info": {
   "codemirror_mode": {
    "name": "ipython",
    "version": 3
   },
   "file_extension": ".py",
   "mimetype": "text/x-python",
   "name": "python",
   "nbconvert_exporter": "python",
   "pygments_lexer": "ipython3",
   "version": "3.11.7"
  }
 },
 "nbformat": 4,
 "nbformat_minor": 5
}
