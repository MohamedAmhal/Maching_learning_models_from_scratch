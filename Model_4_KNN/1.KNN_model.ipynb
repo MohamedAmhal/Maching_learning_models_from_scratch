{
 "cells": [
  {
   "cell_type": "markdown",
   "id": "e0671204-e66c-43a2-a974-8c3159b3c990",
   "metadata": {},
   "source": [
    "# KNN Model :"
   ]
  },
  {
   "cell_type": "markdown",
   "id": "d5949a94-9281-4c59-b2d0-39fd3b655f62",
   "metadata": {},
   "source": [
    "## **1.The problem** :"
   ]
  },
  {
   "cell_type": "markdown",
   "id": "f2ff3934-7449-40dc-86c1-9aa743d81d2f",
   "metadata": {},
   "source": [
    "we try to localise a basketbool player in the stad based with the caracteristique of the player .\n",
    "- So to simplifiy this we have 3 post :"
   ]
  },
  {
   "cell_type": "markdown",
   "id": "6d01fda8-f5d7-41f5-8b50-2fa635d56594",
   "metadata": {},
   "source": [
    "- the center player : C (the 5 position in the schema)\n",
    "- the Ailier player : F (the 3 and 4 position in the schema)\n",
    "- the last(arriere) player : G (the 1 and 2 position in the schema)"
   ]
  },
  {
   "cell_type": "markdown",
   "id": "2828e628-bcec-4128-8c8b-688a7782924e",
   "metadata": {},
   "source": [
    "<div align=\"center\">\r\n",
    "  <a href=\"https://imgbb.com/\" target=\"_blank\" rel=\"noreferrer\">\r\n",
    "    <img src=\"https://i.ibb.co/09gZSbh/Capture-d-cran-2024-10-11-181044.png\" alt=\"Capture-d-cran-2024-10-11-181044\" border=\"12\" />\r\n",
    "  </a>\r\n",
    "</div>\r\n"
   ]
  },
  {
   "cell_type": "markdown",
   "id": "9cdd0ab8-027b-4a5f-9736-cd4576b2e6c7",
   "metadata": {},
   "source": [
    "As with all types of machine learning, the principle is as follows:\n",
    "\n",
    "- We start by studying a given population, called the training set. The quality of the sampling used for this population will determine how well the algorithm can make predictions. The study of this population should allow us to create groups of objects with similar properties. For example, the group consisting of center-type players will probably be taller and stronger than the other players.\n",
    "- Then, we have a population outside of this sampling. We seek to predict their position on the field based on their physical characteristics, according to the results of the previous study.\n",
    "\n",
    "\n",
    "\n",
    "\n",
    "\n"
   ]
  },
  {
   "cell_type": "markdown",
   "id": "05d1cd1d-4024-45ec-86d6-ff63b20eb985",
   "metadata": {},
   "source": [
    "## **2.The data set** :"
   ]
  },
  {
   "cell_type": "code",
   "execution_count": 1,
   "id": "947453a1-6600-4b33-84a9-5610687acb34",
   "metadata": {},
   "outputs": [],
   "source": [
    "import numpy as np\n",
    "import pandas as pd\n",
    "import matplotlib.pyplot as plt\n",
    "import seaborn as sns\n"
   ]
  },
  {
   "cell_type": "code",
   "execution_count": 20,
   "id": "0a8d422a-e60d-4311-9718-ffcf7ee74e8b",
   "metadata": {},
   "outputs": [
    {
     "name": "stdout",
     "output_type": "stream",
     "text": [
      "                 nom equipe poste  taille   poids  experience        pays\n",
      "0  Aldridge Grayson     MEM     G    1.93   89.8          1.0  États-Unis\n",
      "1   Allen Al-Farouq     ORL     F    2.03   99.8          9.0  États-Unis\n",
      "2     Allen Jarrett     BKN     C    2.11  110.2          2.0  États-Unis\n",
      "3      Allen Kadeem     NYK     G    1.85   90.7          2.0  États-Unis\n",
      "4        Aminu Kyle     MEM   F-G    2.06  104.3          5.0  États-Unis\n"
     ]
    }
   ],
   "source": [
    "data = pd.read_csv(r\"C:\\Users\\hp\\Downloads\\joueursNBA2020.csv\", sep=\";\", on_bad_lines='skip')\n",
    "cleaned_data = data[['nom','equipe','poste','taille','poids','experience','pays']].dropna()\n",
    "cleaned_data['poids'] = cleaned_data['poids'].replace(to_replace='kg', value='', regex=True)\n",
    "print(cleaned_data.head())"
   ]
  },
  {
   "cell_type": "code",
   "execution_count": 22,
   "id": "49323d3a-d5a5-4c32-ae7a-dc92264d2da8",
   "metadata": {},
   "outputs": [],
   "source": [
    "cleaned_data['poids'] = cleaned_data['poids'].astype('float')\n",
    "cleaned_data['taille'] = cleaned_data['taille'].astype('float')"
   ]
  },
  {
   "cell_type": "code",
   "execution_count": 23,
   "id": "305b8341-c51c-422a-8cc2-1ff087073225",
   "metadata": {},
   "outputs": [
    {
     "data": {
      "text/html": [
       "<div>\n",
       "<style scoped>\n",
       "    .dataframe tbody tr th:only-of-type {\n",
       "        vertical-align: middle;\n",
       "    }\n",
       "\n",
       "    .dataframe tbody tr th {\n",
       "        vertical-align: top;\n",
       "    }\n",
       "\n",
       "    .dataframe thead th {\n",
       "        text-align: right;\n",
       "    }\n",
       "</style>\n",
       "<table border=\"1\" class=\"dataframe\">\n",
       "  <thead>\n",
       "    <tr style=\"text-align: right;\">\n",
       "      <th></th>\n",
       "      <th>nom</th>\n",
       "      <th>equipe</th>\n",
       "      <th>poste</th>\n",
       "      <th>taille</th>\n",
       "      <th>poids</th>\n",
       "      <th>experience</th>\n",
       "      <th>pays</th>\n",
       "    </tr>\n",
       "  </thead>\n",
       "  <tbody>\n",
       "    <tr>\n",
       "      <th>0</th>\n",
       "      <td>Aldridge Grayson</td>\n",
       "      <td>MEM</td>\n",
       "      <td>G</td>\n",
       "      <td>1.93</td>\n",
       "      <td>89.8</td>\n",
       "      <td>1.0</td>\n",
       "      <td>États-Unis</td>\n",
       "    </tr>\n",
       "    <tr>\n",
       "      <th>1</th>\n",
       "      <td>Allen Al-Farouq</td>\n",
       "      <td>ORL</td>\n",
       "      <td>F</td>\n",
       "      <td>2.03</td>\n",
       "      <td>99.8</td>\n",
       "      <td>9.0</td>\n",
       "      <td>États-Unis</td>\n",
       "    </tr>\n",
       "    <tr>\n",
       "      <th>2</th>\n",
       "      <td>Allen Jarrett</td>\n",
       "      <td>BKN</td>\n",
       "      <td>C</td>\n",
       "      <td>2.11</td>\n",
       "      <td>110.2</td>\n",
       "      <td>2.0</td>\n",
       "      <td>États-Unis</td>\n",
       "    </tr>\n",
       "    <tr>\n",
       "      <th>3</th>\n",
       "      <td>Allen Kadeem</td>\n",
       "      <td>NYK</td>\n",
       "      <td>G</td>\n",
       "      <td>1.85</td>\n",
       "      <td>90.7</td>\n",
       "      <td>2.0</td>\n",
       "      <td>États-Unis</td>\n",
       "    </tr>\n",
       "    <tr>\n",
       "      <th>4</th>\n",
       "      <td>Aminu Kyle</td>\n",
       "      <td>MEM</td>\n",
       "      <td>F-G</td>\n",
       "      <td>2.06</td>\n",
       "      <td>104.3</td>\n",
       "      <td>5.0</td>\n",
       "      <td>États-Unis</td>\n",
       "    </tr>\n",
       "  </tbody>\n",
       "</table>\n",
       "</div>"
      ],
      "text/plain": [
       "                 nom equipe poste  taille  poids  experience        pays\n",
       "0  Aldridge Grayson     MEM     G    1.93   89.8         1.0  États-Unis\n",
       "1   Allen Al-Farouq     ORL     F    2.03   99.8         9.0  États-Unis\n",
       "2     Allen Jarrett     BKN     C    2.11  110.2         2.0  États-Unis\n",
       "3      Allen Kadeem     NYK     G    1.85   90.7         2.0  États-Unis\n",
       "4        Aminu Kyle     MEM   F-G    2.06  104.3         5.0  États-Unis"
      ]
     },
     "execution_count": 23,
     "metadata": {},
     "output_type": "execute_result"
    }
   ],
   "source": [
    "cleaned_data.head()"
   ]
  },
  {
   "cell_type": "code",
   "execution_count": 24,
   "id": "58ea647a-a9a3-4b18-9523-babefbe8032c",
   "metadata": {},
   "outputs": [
    {
     "data": {
      "text/plain": [
       "(57, 7)"
      ]
     },
     "execution_count": 24,
     "metadata": {},
     "output_type": "execute_result"
    }
   ],
   "source": [
    "cleaned_data.shape"
   ]
  },
  {
   "cell_type": "markdown",
   "id": "22df7ae0-9702-45a4-8cf4-1d3fb664fb74",
   "metadata": {},
   "source": [
    "## **3. Fillter the data :**"
   ]
  },
  {
   "cell_type": "markdown",
   "id": "b54faf59-fdc7-4cdd-86c0-077aff4cd4d6",
   "metadata": {},
   "source": [
    "we can filter the data using methos of pandas :"
   ]
  },
  {
   "cell_type": "code",
   "execution_count": 27,
   "id": "6b2047c8-1a0e-461f-aa55-cd0078b8a874",
   "metadata": {},
   "outputs": [
    {
     "data": {
      "text/plain": [
       "0    False\n",
       "1    False\n",
       "2     True\n",
       "3    False\n",
       "4    False\n",
       "Name: poste, dtype: bool"
      ]
     },
     "execution_count": 27,
     "metadata": {},
     "output_type": "execute_result"
    }
   ],
   "source": [
    "filter = cleaned_data['poste'] == 'C'\n",
    "filter.head()"
   ]
  },
  {
   "cell_type": "code",
   "execution_count": 28,
   "id": "2960964b-54cc-41b9-bb30-d615cc25fbef",
   "metadata": {},
   "outputs": [
    {
     "data": {
      "text/html": [
       "<div>\n",
       "<style scoped>\n",
       "    .dataframe tbody tr th:only-of-type {\n",
       "        vertical-align: middle;\n",
       "    }\n",
       "\n",
       "    .dataframe tbody tr th {\n",
       "        vertical-align: top;\n",
       "    }\n",
       "\n",
       "    .dataframe thead th {\n",
       "        text-align: right;\n",
       "    }\n",
       "</style>\n",
       "<table border=\"1\" class=\"dataframe\">\n",
       "  <thead>\n",
       "    <tr style=\"text-align: right;\">\n",
       "      <th></th>\n",
       "      <th>nom</th>\n",
       "      <th>equipe</th>\n",
       "      <th>poste</th>\n",
       "      <th>taille</th>\n",
       "      <th>poids</th>\n",
       "      <th>experience</th>\n",
       "      <th>pays</th>\n",
       "    </tr>\n",
       "  </thead>\n",
       "  <tbody>\n",
       "    <tr>\n",
       "      <th>2</th>\n",
       "      <td>Allen Jarrett</td>\n",
       "      <td>BKN</td>\n",
       "      <td>C</td>\n",
       "      <td>2.11</td>\n",
       "      <td>110.2</td>\n",
       "      <td>2.0</td>\n",
       "      <td>États-Unis</td>\n",
       "    </tr>\n",
       "    <tr>\n",
       "      <th>12</th>\n",
       "      <td>Ball Mo</td>\n",
       "      <td>ORL</td>\n",
       "      <td>C</td>\n",
       "      <td>2.13</td>\n",
       "      <td>104.8</td>\n",
       "      <td>1.0</td>\n",
       "      <td>États-Unis</td>\n",
       "    </tr>\n",
       "    <tr>\n",
       "      <th>39</th>\n",
       "      <td>Brown Moses</td>\n",
       "      <td>POR</td>\n",
       "      <td>C</td>\n",
       "      <td>2.18</td>\n",
       "      <td>111.1</td>\n",
       "      <td>0.0</td>\n",
       "      <td>États-Unis</td>\n",
       "    </tr>\n",
       "    <tr>\n",
       "      <th>49</th>\n",
       "      <td>Mo Bamba</td>\n",
       "      <td>ORL</td>\n",
       "      <td>C</td>\n",
       "      <td>2.13</td>\n",
       "      <td>104.8</td>\n",
       "      <td>1.0</td>\n",
       "      <td>États-Unis</td>\n",
       "    </tr>\n",
       "    <tr>\n",
       "      <th>50</th>\n",
       "      <td>Khem Birch</td>\n",
       "      <td>ORL</td>\n",
       "      <td>C</td>\n",
       "      <td>2.06</td>\n",
       "      <td>105.7</td>\n",
       "      <td>2.0</td>\n",
       "      <td>Canada</td>\n",
       "    </tr>\n",
       "    <tr>\n",
       "      <th>51</th>\n",
       "      <td>Fall Tacko</td>\n",
       "      <td>BOS</td>\n",
       "      <td>C</td>\n",
       "      <td>2.26</td>\n",
       "      <td>141.1</td>\n",
       "      <td>0.0</td>\n",
       "      <td>Sénégal</td>\n",
       "    </tr>\n",
       "    <tr>\n",
       "      <th>52</th>\n",
       "      <td>Hartenstein Isaiah</td>\n",
       "      <td>HOU</td>\n",
       "      <td>C</td>\n",
       "      <td>2.13</td>\n",
       "      <td>113.4</td>\n",
       "      <td>1.0</td>\n",
       "      <td>Allemagne</td>\n",
       "    </tr>\n",
       "    <tr>\n",
       "      <th>53</th>\n",
       "      <td>Hernandez Dewan</td>\n",
       "      <td>TOR</td>\n",
       "      <td>C</td>\n",
       "      <td>2.08</td>\n",
       "      <td>106.6</td>\n",
       "      <td>0.0</td>\n",
       "      <td>États-Unis</td>\n",
       "    </tr>\n",
       "    <tr>\n",
       "      <th>55</th>\n",
       "      <td>Jones Damian</td>\n",
       "      <td>ATL</td>\n",
       "      <td>C</td>\n",
       "      <td>2.11</td>\n",
       "      <td>111.1</td>\n",
       "      <td>3.0</td>\n",
       "      <td>États-Unis</td>\n",
       "    </tr>\n",
       "    <tr>\n",
       "      <th>56</th>\n",
       "      <td>DeAndre Jordan</td>\n",
       "      <td>BKN</td>\n",
       "      <td>C</td>\n",
       "      <td>2.11</td>\n",
       "      <td>120.2</td>\n",
       "      <td>11.0</td>\n",
       "      <td>États-Unis</td>\n",
       "    </tr>\n",
       "  </tbody>\n",
       "</table>\n",
       "</div>"
      ],
      "text/plain": [
       "                   nom equipe poste  taille  poids  experience        pays\n",
       "2       Allen Jarrett     BKN     C    2.11  110.2         2.0  États-Unis\n",
       "12            Ball Mo     ORL     C    2.13  104.8         1.0  États-Unis\n",
       "39        Brown Moses     POR     C    2.18  111.1         0.0  États-Unis\n",
       "49            Mo Bamba    ORL     C    2.13  104.8         1.0  États-Unis\n",
       "50          Khem Birch    ORL     C    2.06  105.7         2.0      Canada\n",
       "51          Fall Tacko    BOS     C    2.26  141.1         0.0     Sénégal\n",
       "52  Hartenstein Isaiah    HOU     C    2.13  113.4         1.0   Allemagne\n",
       "53     Hernandez Dewan    TOR     C    2.08  106.6         0.0  États-Unis\n",
       "55        Jones Damian    ATL     C    2.11  111.1         3.0  États-Unis\n",
       "56      DeAndre Jordan    BKN     C    2.11  120.2        11.0  États-Unis"
      ]
     },
     "execution_count": 28,
     "metadata": {},
     "output_type": "execute_result"
    }
   ],
   "source": [
    "df = cleaned_data[filter]\n",
    "df"
   ]
  },
  {
   "cell_type": "markdown",
   "id": "8adb9705-a20f-4002-ab04-1fffb53b70e9",
   "metadata": {},
   "source": [
    "## **4. visualize the data :**"
   ]
  },
  {
   "cell_type": "markdown",
   "id": "59cc573b-d231-478b-8727-ee81d7515bc3",
   "metadata": {},
   "source": [
    "we will visualize the palyer using the ('taille', 'poids')"
   ]
  },
  {
   "cell_type": "code",
   "execution_count": 33,
   "id": "6bfa8731-a39f-483a-b4be-3ddcf73bc02a",
   "metadata": {},
   "outputs": [],
   "source": [
    "import matplotlib.pyplot as plt\n",
    "from matplotlib.patches import Ellipse, Circle\n",
    "def points(postes, size=20, marker='o', alpha=0.5):\n",
    "    for poste in postes:\n",
    "        df = cleaned_data[cleaned_data['poste'] == poste]\n",
    "        x = df['taille']\n",
    "        y = df['poids']\n",
    "        plt.scatter(x, y, label=poste, s=size, marker=marker, alpha=alpha)"
   ]
  },
  {
   "cell_type": "code",
   "execution_count": 34,
   "id": "0b7372ea-fb96-4cee-a978-10f0ea9864f1",
   "metadata": {},
   "outputs": [
    {
     "data": {
      "image/png": "[encoded data removed]",
      "text/plain": [
       "<Figure size 640x480 with 1 Axes>"
      ]
     },
     "metadata": {},
     "output_type": "display_data"
    }
   ],
   "source": [
    "plt.title('the caracteristique of players in  NBA 2020')\n",
    "plt.xlabel(\"taille\")\n",
    "plt.ylabel(\"poids\")\n",
    "plt.grid(which='major', linestyle='-', linewidth='0.5', color='red')\n",
    "points('F')\n",
    "points('G')\n",
    "points('C',100,'D',1)\n",
    "axes = plt.gca()\n",
    "plt.legend()\n",
    "plt.show()"
   ]
  },
  {
   "cell_type": "code",
   "execution_count": 35,
   "id": "ee5178da-dd04-4f66-a6d8-dfbb206b7cac",
   "metadata": {},
   "outputs": [
    {
     "data": {
      "image/png": "[encoded data removed]",
      "text/plain": [
       "<Figure size 640x480 with 1 Axes>"
      ]
     },
     "metadata": {},
     "output_type": "display_data"
    }
   ],
   "source": [
    "plt.title('the caracteristique of players in  NBA 2020')\n",
    "plt.xlabel(\"taille\")\n",
    "plt.ylabel(\"poids\")\n",
    "plt.grid(which='major', linestyle='-', linewidth='0.5', color='red')\n",
    "points('F',100,'D',1)\n",
    "points('G',20,'o',0.5)\n",
    "points('C',20,'o',0.5)\n",
    "axes = plt.gca()\n",
    "plt.legend()\n",
    "plt.show()"
   ]
  },
  {
   "cell_type": "code",
   "execution_count": 36,
   "id": "48257536-3086-41f1-94d4-2105cc711ae0",
   "metadata": {},
   "outputs": [
    {
     "data": {
      "text/html": [
       "<div>\n",
       "<style scoped>\n",
       "    .dataframe tbody tr th:only-of-type {\n",
       "        vertical-align: middle;\n",
       "    }\n",
       "\n",
       "    .dataframe tbody tr th {\n",
       "        vertical-align: top;\n",
       "    }\n",
       "\n",
       "    .dataframe thead th {\n",
       "        text-align: right;\n",
       "    }\n",
       "</style>\n",
       "<table border=\"1\" class=\"dataframe\">\n",
       "  <thead>\n",
       "    <tr style=\"text-align: right;\">\n",
       "      <th></th>\n",
       "      <th>nom</th>\n",
       "      <th>equipe</th>\n",
       "      <th>poste</th>\n",
       "      <th>taille</th>\n",
       "      <th>poids</th>\n",
       "      <th>experience</th>\n",
       "      <th>pays</th>\n",
       "    </tr>\n",
       "  </thead>\n",
       "  <tbody>\n",
       "    <tr>\n",
       "      <th>9</th>\n",
       "      <td>Augustin Dwayne</td>\n",
       "      <td>CHA</td>\n",
       "      <td>G-F</td>\n",
       "      <td>1.98</td>\n",
       "      <td>100.2</td>\n",
       "      <td>2.0</td>\n",
       "      <td>États-Unis</td>\n",
       "    </tr>\n",
       "    <tr>\n",
       "      <th>17</th>\n",
       "      <td>Bates-Diop Kent</td>\n",
       "      <td>SAC</td>\n",
       "      <td>G-F</td>\n",
       "      <td>1.93</td>\n",
       "      <td>88.5</td>\n",
       "      <td>7.0</td>\n",
       "      <td>États-Unis</td>\n",
       "    </tr>\n",
       "    <tr>\n",
       "      <th>21</th>\n",
       "      <td>Beasley DeAndre'</td>\n",
       "      <td>ATL</td>\n",
       "      <td>G-F</td>\n",
       "      <td>1.96</td>\n",
       "      <td>95.3</td>\n",
       "      <td>3.0</td>\n",
       "      <td>États-Unis</td>\n",
       "    </tr>\n",
       "    <tr>\n",
       "      <th>34</th>\n",
       "      <td>Brogdon Bruce</td>\n",
       "      <td>DET</td>\n",
       "      <td>G-F</td>\n",
       "      <td>1.93</td>\n",
       "      <td>91.6</td>\n",
       "      <td>1.0</td>\n",
       "      <td>États-Unis</td>\n",
       "    </tr>\n",
       "    <tr>\n",
       "      <th>36</th>\n",
       "      <td>Brown Jaylen</td>\n",
       "      <td>BOS</td>\n",
       "      <td>G-F</td>\n",
       "      <td>1.98</td>\n",
       "      <td>101.2</td>\n",
       "      <td>3.0</td>\n",
       "      <td>États-Unis</td>\n",
       "    </tr>\n",
       "  </tbody>\n",
       "</table>\n",
       "</div>"
      ],
      "text/plain": [
       "                  nom equipe poste  taille  poids  experience        pays\n",
       "9    Augustin Dwayne     CHA   G-F    1.98  100.2         2.0  États-Unis\n",
       "17   Bates-Diop Kent     SAC   G-F    1.93   88.5         7.0  États-Unis\n",
       "21  Beasley DeAndre'     ATL   G-F    1.96   95.3         3.0  États-Unis\n",
       "34     Brogdon Bruce     DET   G-F    1.93   91.6         1.0  États-Unis\n",
       "36      Brown Jaylen     BOS   G-F    1.98  101.2         3.0  États-Unis"
      ]
     },
     "execution_count": 36,
     "metadata": {},
     "output_type": "execute_result"
    }
   ],
   "source": [
    "## the multi post :\n",
    "filter = cleaned_data['poste'] == 'G-F'\n",
    "df = cleaned_data[filter]\n",
    "df.head()"
   ]
  },
  {
   "cell_type": "code",
   "execution_count": 37,
   "id": "10dcfb30-7450-4108-b0e3-70e7bb14a7e2",
   "metadata": {},
   "outputs": [
    {
     "data": {
      "text/plain": [
       "nom           Augustin Dwayne \n",
       "equipe                     CHA\n",
       "poste                      G-F\n",
       "taille                    1.98\n",
       "poids                    100.2\n",
       "experience                 2.0\n",
       "pays                États-Unis\n",
       "Name: 9, dtype: object"
      ]
     },
     "execution_count": 37,
     "metadata": {},
     "output_type": "execute_result"
    }
   ],
   "source": [
    "# localisation of the first post === 'G-F'\n",
    "df.loc[9]"
   ]
  },
  {
   "cell_type": "markdown",
   "id": "72c7c6c1-bc2f-4239-a5c0-401f4723b072",
   "metadata": {},
   "source": [
    "## **5. function that localise a player in the visual**:"
   ]
  },
  {
   "cell_type": "markdown",
   "id": "39444a4e-1c0e-4b01-bd29-5697b311dd21",
   "metadata": {},
   "source": [
    "we will build a fucntion player() , it will display the visula contient the localisation of the player ."
   ]
  },
  {
   "cell_type": "code",
   "execution_count": 38,
   "id": "a90bbeb9-4f8e-4611-8444-b6a6db8184e3",
   "metadata": {},
   "outputs": [],
   "source": [
    "def player(num, rayon):\n",
    "    ratio = 0.005 # echelle des X / echelle des Y\n",
    "    plt.title('caractéristiques des joueurs de NBA 2020')\n",
    "    plt.xlabel(\"taille\")\n",
    "    plt.ylabel(\"poids\")\n",
    "    plt.grid(which='major', linestyle='-', linewidth='0.5', color='red')\n",
    "    points(['F','G','C'])\n",
    "    x = df.loc[num]['taille']\n",
    "    y = df.loc[num]['poids']\n",
    "    plt.scatter(x,y,s=50, marker='P', alpha=1)\n",
    "    circle = plt.Circle((x, y), 1, color='r')\n",
    "    fig = plt.gcf()\n",
    "    ax = fig.gca() # gca() signifie Obtenir l'axe actuel\n",
    "    ax.set_aspect(ratio) # je choisi le ratio DX/DY pour les echelles desaxes\n",
    "    ax.add_artist(Ellipse((x, y), rayon*ratio, rayon,color='yellow',alpha=0.2))\n",
    "    plt.legend()\n",
    "    plt.show()"
   ]
  },
  {
   "cell_type": "code",
   "execution_count": 42,
   "id": "285c0a68-0fb1-449d-a580-2f06ad66da65",
   "metadata": {},
   "outputs": [
    {
     "data": {
      "image/png": "[encoded data removed]",
      "text/plain": [
       "<Figure size 640x480 with 1 Axes>"
      ]
     },
     "metadata": {},
     "output_type": "display_data"
    }
   ],
   "source": [
    "# correction\n",
    "player(9, 5)"
   ]
  },
  {
   "cell_type": "code",
   "execution_count": 44,
   "id": "f8761d98-3976-4138-9612-798510f95dec",
   "metadata": {},
   "outputs": [
    {
     "data": {
      "image/png": "[encoded data removed]",
      "text/plain": [
       "<Figure size 640x480 with 1 Axes>"
      ]
     },
     "metadata": {},
     "output_type": "display_data"
    }
   ],
   "source": [
    "# correction\n",
    "player(36, 20)"
   ]
  },
  {
   "cell_type": "markdown",
   "id": "c75cc88d-cc29-4186-b0ae-f2beee545eca",
   "metadata": {},
   "source": [
    "**Question f**: What is the position of the closest neighbors of this player (within the circle)? ==> **the G (4)   not a F(2)\n",
    "\n",
    "The **k-nearest neighbors algorithm** can be described in natural language as follows:\n",
    "\n",
    "- Find the k nearest neighbors of the player within the training set.\n",
    "- Among these nearest neighbors, find the most common classification.\n",
    "- Return the most common classification.\n",
    "\n",
    "\n",
    "Let me know if you need further details!"
   ]
  },
  {
   "cell_type": "markdown",
   "id": "af8b6900-8033-42ca-a3dc-2dcd80b51576",
   "metadata": {},
   "source": [
    "### the first one we can do is to group the posts to categories (in other ways we will sort them )"
   ]
  },
  {
   "cell_type": "code",
   "execution_count": 45,
   "id": "ea327af8-da5c-46a6-a549-39beaed46fd5",
   "metadata": {},
   "outputs": [],
   "source": [
    "ensC = cleaned_data[cleaned_data['poste'] == 'C']\n",
    "ensF = cleaned_data[cleaned_data['poste'] == 'F']\n",
    "ensG = cleaned_data[cleaned_data['poste'] == 'G']"
   ]
  },
  {
   "cell_type": "code",
   "execution_count": 46,
   "id": "4d38c857-4406-4b3e-b3a5-8a5d858b7f5e",
   "metadata": {},
   "outputs": [],
   "source": [
    "# concatenate those posts :\n",
    "training = pd.concat([ensC, ensF, ensG])"
   ]
  },
  {
   "cell_type": "code",
   "execution_count": 47,
   "id": "2b6bddb8-1719-4e02-b7bc-10662f1a5891",
   "metadata": {},
   "outputs": [
    {
     "data": {
      "text/html": [
       "<div>\n",
       "<style scoped>\n",
       "    .dataframe tbody tr th:only-of-type {\n",
       "        vertical-align: middle;\n",
       "    }\n",
       "\n",
       "    .dataframe tbody tr th {\n",
       "        vertical-align: top;\n",
       "    }\n",
       "\n",
       "    .dataframe thead th {\n",
       "        text-align: right;\n",
       "    }\n",
       "</style>\n",
       "<table border=\"1\" class=\"dataframe\">\n",
       "  <thead>\n",
       "    <tr style=\"text-align: right;\">\n",
       "      <th></th>\n",
       "      <th>nom</th>\n",
       "      <th>equipe</th>\n",
       "      <th>poste</th>\n",
       "      <th>taille</th>\n",
       "      <th>poids</th>\n",
       "      <th>experience</th>\n",
       "      <th>pays</th>\n",
       "    </tr>\n",
       "  </thead>\n",
       "  <tbody>\n",
       "    <tr>\n",
       "      <th>2</th>\n",
       "      <td>Allen Jarrett</td>\n",
       "      <td>BKN</td>\n",
       "      <td>C</td>\n",
       "      <td>2.11</td>\n",
       "      <td>110.2</td>\n",
       "      <td>2.0</td>\n",
       "      <td>États-Unis</td>\n",
       "    </tr>\n",
       "    <tr>\n",
       "      <th>12</th>\n",
       "      <td>Ball Mo</td>\n",
       "      <td>ORL</td>\n",
       "      <td>C</td>\n",
       "      <td>2.13</td>\n",
       "      <td>104.8</td>\n",
       "      <td>1.0</td>\n",
       "      <td>États-Unis</td>\n",
       "    </tr>\n",
       "    <tr>\n",
       "      <th>39</th>\n",
       "      <td>Brown Moses</td>\n",
       "      <td>POR</td>\n",
       "      <td>C</td>\n",
       "      <td>2.18</td>\n",
       "      <td>111.1</td>\n",
       "      <td>0.0</td>\n",
       "      <td>États-Unis</td>\n",
       "    </tr>\n",
       "    <tr>\n",
       "      <th>49</th>\n",
       "      <td>Mo Bamba</td>\n",
       "      <td>ORL</td>\n",
       "      <td>C</td>\n",
       "      <td>2.13</td>\n",
       "      <td>104.8</td>\n",
       "      <td>1.0</td>\n",
       "      <td>États-Unis</td>\n",
       "    </tr>\n",
       "    <tr>\n",
       "      <th>50</th>\n",
       "      <td>Khem Birch</td>\n",
       "      <td>ORL</td>\n",
       "      <td>C</td>\n",
       "      <td>2.06</td>\n",
       "      <td>105.7</td>\n",
       "      <td>2.0</td>\n",
       "      <td>Canada</td>\n",
       "    </tr>\n",
       "  </tbody>\n",
       "</table>\n",
       "</div>"
      ],
      "text/plain": [
       "               nom equipe poste  taille  poids  experience        pays\n",
       "2   Allen Jarrett     BKN     C    2.11  110.2         2.0  États-Unis\n",
       "12        Ball Mo     ORL     C    2.13  104.8         1.0  États-Unis\n",
       "39    Brown Moses     POR     C    2.18  111.1         0.0  États-Unis\n",
       "49        Mo Bamba    ORL     C    2.13  104.8         1.0  États-Unis\n",
       "50      Khem Birch    ORL     C    2.06  105.7         2.0      Canada"
      ]
     },
     "execution_count": 47,
     "metadata": {},
     "output_type": "execute_result"
    }
   ],
   "source": [
    "training.head()"
   ]
  },
  {
   "cell_type": "code",
   "execution_count": 48,
   "id": "71f23bd2-0386-4980-90ee-70c5a672da38",
   "metadata": {},
   "outputs": [
    {
     "data": {
      "text/html": [
       "<div>\n",
       "<style scoped>\n",
       "    .dataframe tbody tr th:only-of-type {\n",
       "        vertical-align: middle;\n",
       "    }\n",
       "\n",
       "    .dataframe tbody tr th {\n",
       "        vertical-align: top;\n",
       "    }\n",
       "\n",
       "    .dataframe thead th {\n",
       "        text-align: right;\n",
       "    }\n",
       "</style>\n",
       "<table border=\"1\" class=\"dataframe\">\n",
       "  <thead>\n",
       "    <tr style=\"text-align: right;\">\n",
       "      <th></th>\n",
       "      <th>nom</th>\n",
       "      <th>equipe</th>\n",
       "      <th>poste</th>\n",
       "      <th>taille</th>\n",
       "      <th>poids</th>\n",
       "      <th>experience</th>\n",
       "      <th>pays</th>\n",
       "    </tr>\n",
       "  </thead>\n",
       "  <tbody>\n",
       "    <tr>\n",
       "      <th>32</th>\n",
       "      <td>Bridges Malcolm</td>\n",
       "      <td>IND</td>\n",
       "      <td>G</td>\n",
       "      <td>1.96</td>\n",
       "      <td>103.9</td>\n",
       "      <td>3.0</td>\n",
       "      <td>États-Unis</td>\n",
       "    </tr>\n",
       "    <tr>\n",
       "      <th>35</th>\n",
       "      <td>Brown Charles</td>\n",
       "      <td>ATL</td>\n",
       "      <td>G</td>\n",
       "      <td>1.98</td>\n",
       "      <td>90.3</td>\n",
       "      <td>0.0</td>\n",
       "      <td>États-Unis</td>\n",
       "    </tr>\n",
       "    <tr>\n",
       "      <th>37</th>\n",
       "      <td>Brown Jr. Jalen</td>\n",
       "      <td>DAL</td>\n",
       "      <td>G</td>\n",
       "      <td>1.85</td>\n",
       "      <td>86.2</td>\n",
       "      <td>1.0</td>\n",
       "      <td>États-Unis</td>\n",
       "    </tr>\n",
       "    <tr>\n",
       "      <th>43</th>\n",
       "      <td>Bullock Alec</td>\n",
       "      <td>PHI</td>\n",
       "      <td>G</td>\n",
       "      <td>1.98</td>\n",
       "      <td>97.1</td>\n",
       "      <td>8.0</td>\n",
       "      <td>États-Unis</td>\n",
       "    </tr>\n",
       "    <tr>\n",
       "      <th>47</th>\n",
       "      <td>Cacok Kentavious</td>\n",
       "      <td>LAL</td>\n",
       "      <td>G</td>\n",
       "      <td>1.96</td>\n",
       "      <td>92.5</td>\n",
       "      <td>6.0</td>\n",
       "      <td>États-Unis</td>\n",
       "    </tr>\n",
       "  </tbody>\n",
       "</table>\n",
       "</div>"
      ],
      "text/plain": [
       "                  nom equipe poste  taille  poids  experience        pays\n",
       "32   Bridges Malcolm     IND     G    1.96  103.9         3.0  États-Unis\n",
       "35     Brown Charles     ATL     G    1.98   90.3         0.0  États-Unis\n",
       "37   Brown Jr. Jalen     DAL     G    1.85   86.2         1.0  États-Unis\n",
       "43      Bullock Alec     PHI     G    1.98   97.1         8.0  États-Unis\n",
       "47  Cacok Kentavious     LAL     G    1.96   92.5         6.0  États-Unis"
      ]
     },
     "execution_count": 48,
     "metadata": {},
     "output_type": "execute_result"
    }
   ],
   "source": [
    "training.tail()"
   ]
  },
  {
   "cell_type": "code",
   "execution_count": 49,
   "id": "5b2cb6b1-65d3-4377-acb6-2abceac3ad9f",
   "metadata": {},
   "outputs": [],
   "source": [
    "### we will calculate the distances : (using the euclideint distances )"
   ]
  },
  {
   "cell_type": "code",
   "execution_count": 51,
   "id": "fbe60b9a-d3ab-48b0-8729-191080d43605",
   "metadata": {},
   "outputs": [],
   "source": [
    "def distance(num, ratio):\n",
    "    x = cleaned_data.loc[num]['taille']\n",
    "    y = cleaned_data.loc[num]['poids']\n",
    "    training['ensemble'] =np.sqrt((training['poids'] - y) ** 2 + (training['taille'] - x) ** 2)\n",
    "    \n",
    "    "
   ]
  },
  {
   "cell_type": "code",
   "execution_count": 52,
   "id": "30c0ca7b-7983-4280-934e-0093bf2a5a0f",
   "metadata": {},
   "outputs": [
    {
     "data": {
      "text/html": [
       "<div>\n",
       "<style scoped>\n",
       "    .dataframe tbody tr th:only-of-type {\n",
       "        vertical-align: middle;\n",
       "    }\n",
       "\n",
       "    .dataframe tbody tr th {\n",
       "        vertical-align: top;\n",
       "    }\n",
       "\n",
       "    .dataframe thead th {\n",
       "        text-align: right;\n",
       "    }\n",
       "</style>\n",
       "<table border=\"1\" class=\"dataframe\">\n",
       "  <thead>\n",
       "    <tr style=\"text-align: right;\">\n",
       "      <th></th>\n",
       "      <th>nom</th>\n",
       "      <th>equipe</th>\n",
       "      <th>poste</th>\n",
       "      <th>taille</th>\n",
       "      <th>poids</th>\n",
       "      <th>experience</th>\n",
       "      <th>pays</th>\n",
       "      <th>ensemble</th>\n",
       "    </tr>\n",
       "  </thead>\n",
       "  <tbody>\n",
       "    <tr>\n",
       "      <th>2</th>\n",
       "      <td>Allen Jarrett</td>\n",
       "      <td>BKN</td>\n",
       "      <td>C</td>\n",
       "      <td>2.11</td>\n",
       "      <td>110.2</td>\n",
       "      <td>2.0</td>\n",
       "      <td>États-Unis</td>\n",
       "      <td>10.000845</td>\n",
       "    </tr>\n",
       "    <tr>\n",
       "      <th>12</th>\n",
       "      <td>Ball Mo</td>\n",
       "      <td>ORL</td>\n",
       "      <td>C</td>\n",
       "      <td>2.13</td>\n",
       "      <td>104.8</td>\n",
       "      <td>1.0</td>\n",
       "      <td>États-Unis</td>\n",
       "      <td>4.602445</td>\n",
       "    </tr>\n",
       "    <tr>\n",
       "      <th>39</th>\n",
       "      <td>Brown Moses</td>\n",
       "      <td>POR</td>\n",
       "      <td>C</td>\n",
       "      <td>2.18</td>\n",
       "      <td>111.1</td>\n",
       "      <td>0.0</td>\n",
       "      <td>États-Unis</td>\n",
       "      <td>10.901835</td>\n",
       "    </tr>\n",
       "    <tr>\n",
       "      <th>49</th>\n",
       "      <td>Mo Bamba</td>\n",
       "      <td>ORL</td>\n",
       "      <td>C</td>\n",
       "      <td>2.13</td>\n",
       "      <td>104.8</td>\n",
       "      <td>1.0</td>\n",
       "      <td>États-Unis</td>\n",
       "      <td>4.602445</td>\n",
       "    </tr>\n",
       "    <tr>\n",
       "      <th>50</th>\n",
       "      <td>Khem Birch</td>\n",
       "      <td>ORL</td>\n",
       "      <td>C</td>\n",
       "      <td>2.06</td>\n",
       "      <td>105.7</td>\n",
       "      <td>2.0</td>\n",
       "      <td>Canada</td>\n",
       "      <td>5.500582</td>\n",
       "    </tr>\n",
       "  </tbody>\n",
       "</table>\n",
       "</div>"
      ],
      "text/plain": [
       "               nom equipe poste  taille  poids  experience        pays  \\\n",
       "2   Allen Jarrett     BKN     C    2.11  110.2         2.0  États-Unis   \n",
       "12        Ball Mo     ORL     C    2.13  104.8         1.0  États-Unis   \n",
       "39    Brown Moses     POR     C    2.18  111.1         0.0  États-Unis   \n",
       "49        Mo Bamba    ORL     C    2.13  104.8         1.0  États-Unis   \n",
       "50      Khem Birch    ORL     C    2.06  105.7         2.0      Canada   \n",
       "\n",
       "     ensemble  \n",
       "2   10.000845  \n",
       "12   4.602445  \n",
       "39  10.901835  \n",
       "49   4.602445  \n",
       "50   5.500582  "
      ]
     },
     "execution_count": 52,
     "metadata": {},
     "output_type": "execute_result"
    }
   ],
   "source": [
    "distance(9, 0.005)\n",
    "training.head()"
   ]
  },
  {
   "cell_type": "markdown",
   "id": "b148ff07-50d4-4e07-b41c-b91869216ba3",
   "metadata": {},
   "source": [
    "### we will use the sorting to dertermine the most k neighboor:\n"
   ]
  },
  {
   "cell_type": "code",
   "execution_count": 61,
   "id": "cc9d0391-1bbe-493e-a900-4256e40c94bf",
   "metadata": {},
   "outputs": [],
   "source": [
    " training = training.sort_values(by='ensemble')"
   ]
  },
  {
   "cell_type": "code",
   "execution_count": 62,
   "id": "db9605a3-e63d-4510-8ef6-44599bed7874",
   "metadata": {},
   "outputs": [
    {
     "data": {
      "text/html": [
       "<div>\n",
       "<style scoped>\n",
       "    .dataframe tbody tr th:only-of-type {\n",
       "        vertical-align: middle;\n",
       "    }\n",
       "\n",
       "    .dataframe tbody tr th {\n",
       "        vertical-align: top;\n",
       "    }\n",
       "\n",
       "    .dataframe thead th {\n",
       "        text-align: right;\n",
       "    }\n",
       "</style>\n",
       "<table border=\"1\" class=\"dataframe\">\n",
       "  <thead>\n",
       "    <tr style=\"text-align: right;\">\n",
       "      <th></th>\n",
       "      <th>nom</th>\n",
       "      <th>equipe</th>\n",
       "      <th>poste</th>\n",
       "      <th>taille</th>\n",
       "      <th>poids</th>\n",
       "      <th>experience</th>\n",
       "      <th>pays</th>\n",
       "      <th>ensemble</th>\n",
       "    </tr>\n",
       "  </thead>\n",
       "  <tbody>\n",
       "    <tr>\n",
       "      <th>1</th>\n",
       "      <td>Allen Al-Farouq</td>\n",
       "      <td>ORL</td>\n",
       "      <td>F</td>\n",
       "      <td>2.03</td>\n",
       "      <td>99.8</td>\n",
       "      <td>9.0</td>\n",
       "      <td>États-Unis</td>\n",
       "      <td>0.403113</td>\n",
       "    </tr>\n",
       "    <tr>\n",
       "      <th>33</th>\n",
       "      <td>Bridges Miles</td>\n",
       "      <td>CHA</td>\n",
       "      <td>F</td>\n",
       "      <td>1.98</td>\n",
       "      <td>102.1</td>\n",
       "      <td>1.0</td>\n",
       "      <td>États-Unis</td>\n",
       "      <td>1.900000</td>\n",
       "    </tr>\n",
       "    <tr>\n",
       "      <th>14</th>\n",
       "      <td>Bamba Harrison</td>\n",
       "      <td>SAC</td>\n",
       "      <td>F</td>\n",
       "      <td>2.03</td>\n",
       "      <td>102.1</td>\n",
       "      <td>7.0</td>\n",
       "      <td>États-Unis</td>\n",
       "      <td>1.900658</td>\n",
       "    </tr>\n",
       "    <tr>\n",
       "      <th>48</th>\n",
       "      <td>Caldwell-Pope DeMarre</td>\n",
       "      <td>HOU</td>\n",
       "      <td>F</td>\n",
       "      <td>1.98</td>\n",
       "      <td>97.5</td>\n",
       "      <td>10.0</td>\n",
       "      <td>États-Unis</td>\n",
       "      <td>2.700000</td>\n",
       "    </tr>\n",
       "    <tr>\n",
       "      <th>7</th>\n",
       "      <td>Arcidiacono Trevor</td>\n",
       "      <td>POR</td>\n",
       "      <td>F</td>\n",
       "      <td>2.03</td>\n",
       "      <td>97.5</td>\n",
       "      <td>15.0</td>\n",
       "      <td>États-Unis</td>\n",
       "      <td>2.700463</td>\n",
       "    </tr>\n",
       "  </tbody>\n",
       "</table>\n",
       "</div>"
      ],
      "text/plain": [
       "                       nom equipe poste  taille  poids  experience  \\\n",
       "1         Allen Al-Farouq     ORL     F    2.03   99.8         9.0   \n",
       "33          Bridges Miles     CHA     F    1.98  102.1         1.0   \n",
       "14         Bamba Harrison     SAC     F    2.03  102.1         7.0   \n",
       "48  Caldwell-Pope DeMarre     HOU     F    1.98   97.5        10.0   \n",
       "7      Arcidiacono Trevor     POR     F    2.03   97.5        15.0   \n",
       "\n",
       "          pays  ensemble  \n",
       "1   États-Unis  0.403113  \n",
       "33  États-Unis  1.900000  \n",
       "14  États-Unis  1.900658  \n",
       "48  États-Unis  2.700000  \n",
       "7   États-Unis  2.700463  "
      ]
     },
     "execution_count": 62,
     "metadata": {},
     "output_type": "execute_result"
    }
   ],
   "source": [
    "training.head()"
   ]
  },
  {
   "cell_type": "markdown",
   "id": "af612276-38bb-4f9e-a704-c015450ca1be",
   "metadata": {},
   "source": [
    "### Implementing the KNN algorithm : "
   ]
  },
  {
   "cell_type": "code",
   "execution_count": 63,
   "id": "6c8da133-d55c-4b36-8dbd-57a84a9c95d4",
   "metadata": {},
   "outputs": [],
   "source": [
    "def KNN(k, data):\n",
    "    score = {'F': 0, 'G': 0, 'C': 0}\n",
    "    for i in range(k):\n",
    "        z = data.index[i]\n",
    "        if data.loc[z]['poste'] == 'F':\n",
    "            score['F'] += 1\n",
    "        elif data.loc[z]['poste'] == 'G':\n",
    "            score['G'] += 1\n",
    "        elif data.loc[z]['poste'] == 'C':\n",
    "            score['C'] += 1 \n",
    "    return score"
   ]
  },
  {
   "cell_type": "code",
   "execution_count": 66,
   "id": "aacccb17-954b-41c3-8eef-830ed2f0c725",
   "metadata": {},
   "outputs": [
    {
     "name": "stdout",
     "output_type": "stream",
     "text": [
      "{'F': 12, 'G': 19, 'C': 9}\n"
     ]
    }
   ],
   "source": [
    "print(KNN(40, training))"
   ]
  },
  {
   "cell_type": "code",
   "execution_count": null,
   "id": "636339cc-4535-44a3-bd0c-cab1f3874900",
   "metadata": {},
   "outputs": [],
   "source": []
  }
 ],
 "metadata": {
  "kernelspec": {
   "display_name": "Python 3 (ipykernel)",
   "language": "python",
   "name": "python3"
  },
  "language_info": {
   "codemirror_mode": {
    "name": "ipython",
    "version": 3
   },
   "file_extension": ".py",
   "mimetype": "text/x-python",
   "name": "python",
   "nbconvert_exporter": "python",
   "pygments_lexer": "ipython3",
   "version": "3.11.7"
  }
 },
 "nbformat": 4,
 "nbformat_minor": 5
}
