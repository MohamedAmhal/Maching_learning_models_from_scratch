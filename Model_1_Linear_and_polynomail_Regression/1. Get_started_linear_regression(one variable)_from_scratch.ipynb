{
 "cells": [
  {
   "cell_type": "markdown",
   "id": "b6f1ad66-6900-44ea-a760-87ebedf01284",
   "metadata": {},
   "source": [
    "# Get Started with supervised learning (linear regression)            "
   ]
  },
  {
   "cell_type": "markdown",
   "id": "282eaa1f-9e57-4d7c-bbb1-953ab1db102e",
   "metadata": {},
   "source": [
    "#### We will implement a linear regression model with one parameter, step by step\n"
   ]
  },
  {
   "cell_type": "markdown",
   "id": "dad70310-c976-461d-a264-3e07fb8076e0",
   "metadata": {},
   "source": [
    "1. First: Import the necessary libraries:\n",
    "      - numpy: for performing statistical operations and data manipulation\n",
    "      - matplotlib: for visualizing the data"
   ]
  },
  {
   "cell_type": "code",
   "execution_count": 2,
   "id": "8151f4d9-4cfb-45dc-aa4e-d491d3a01664",
   "metadata": {},
   "outputs": [],
   "source": [
    "import numpy as np\n",
    "import matplotlib.pyplot as plt"
   ]
  },
  {
   "cell_type": "markdown",
   "id": "507f86c8-bd28-471e-a16a-08c9cc406410",
   "metadata": {},
   "source": [
    "2. Problem Statement:\n",
    "\n",
    "As in the course, you will use the example of predicting house prices.\n",
    "This exercise will use a simple dataset with only two data points.\n",
    "\n",
    "| Size (m²) | Price (in 1000 MAD) |\n",
    "|:---------:|:-------------------:|\n",
    "|    1000   |         300          |\n",
    "|    2000   |         500          |\n",
    "\n",
    "You want to fit a linear regression model through these two points in order to predict the price for other houses, for example, a house with 1200 square meters.\n"
   ]
  },
  {
   "cell_type": "markdown",
   "id": "c00bcfc3-8117-4f85-9a61-37cef3e09c3c",
   "metadata": {},
   "source": [
    "3. define the variables of the size and price (named X_train and Y_train)"
   ]
  },
  {
   "cell_type": "code",
   "execution_count": 3,
   "id": "3ae11d1a-88c6-49d4-909d-467662e5df75",
   "metadata": {},
   "outputs": [
    {
     "name": "stdout",
     "output_type": "stream",
     "text": [
      "X_train : [1. 2.] and Y_train : [300. 500.]\n"
     ]
    }
   ],
   "source": [
    "X_train = np.array([1.0, 2.0]) # we have to multiply the 1.0 with 1000 for obtaining the size in m2\n",
    "Y_train = np.array([300.0, 500.0])\n",
    "print(f'X_train : {X_train} and Y_train : {Y_train}')"
   ]
  },
  {
   "cell_type": "markdown",
   "id": "0f4d9607-c2aa-46c5-8609-9d499cad45b3",
   "metadata": {},
   "source": [
    "4. find the parameters n and m (n is the number of features in this case we have only one , m is the number of examples(rows of data)"
   ]
  },
  {
   "cell_type": "code",
   "execution_count": 4,
   "id": "df95e9b7-a9a2-481b-b6c5-fc30b2ba51c6",
   "metadata": {},
   "outputs": [
    {
     "name": "stdout",
     "output_type": "stream",
     "text": [
      "methode 1 ==> 2 and methode 2 ==> 2\n"
     ]
    }
   ],
   "source": [
    "# methode 1 without numpy:\n",
    "m1 = len(X_train)\n",
    "# methode 2 with numpy:\n",
    "m2 = X_train.shape[0] # 0 is for m : the number of rows and 1 is for the number of columns\n",
    "#display:\n",
    "print(f'methode 1 ==> {m1} and methode 2 ==> {m2}')"
   ]
  },
  {
   "cell_type": "markdown",
   "id": "62cfee8c-d3c2-4db0-bc18-543faad1a962",
   "metadata": {},
   "source": [
    "5. visualizing the data :\n",
    "we can use scatter() form matplotlib "
   ]
  },
  {
   "cell_type": "code",
   "execution_count": 5,
   "id": "8a0ed149-ed58-44ac-9f85-7f4a631a1eb6",
   "metadata": {},
   "outputs": [
    {
     "data": {
      "image/png": "[encoded data removed]",
      "text/plain": [
       "<Figure size 640x480 with 1 Axes>"
      ]
     },
     "metadata": {},
     "output_type": "display_data"
    }
   ],
   "source": [
    "plt.scatter(X_train, Y_train, marker='x', c='r') # for the parameter marker is the form of the point in the visual and c is for the color red \n",
    "plt.title('visualizing data')  # for the title\n",
    "plt.xlabel('size in m2 (*1000)')  \n",
    "plt.ylabel('the price in MAD (*1000)')\n",
    "plt.show() # showing the visual \n"
   ]
  },
  {
   "cell_type": "markdown",
   "id": "1e62ff6a-3701-4579-9781-6bf2bf11752d",
   "metadata": {},
   "source": [
    "6. The model function for linear regression (which is a function that maps x to y is represented as:\n",
    "\n",
    "f(x_i) = w. x_i + b\n",
    "\n",
    "The above formula is how you can represent lines, where different values of w and b give different lines on the graph.\n",
    "raph.\r\n"
   ]
  },
  {
   "cell_type": "code",
   "execution_count": 6,
   "id": "d8080fdb-72be-4d2e-bba8-9e673c63fdcb",
   "metadata": {},
   "outputs": [
    {
     "name": "stdout",
     "output_type": "stream",
     "text": [
      "w = 100, b = 100\n"
     ]
    }
   ],
   "source": [
    "# for example :\n",
    "w = 100\n",
    "b = 100\n",
    "print(f'w = {w}, b = {b}')"
   ]
  },
  {
   "cell_type": "markdown",
   "id": "d20e79db-e687-4cbc-bf0b-0471decf83ff",
   "metadata": {},
   "source": [
    "now we will create a function that calculate the predictions if we have w and b (y hat):"
   ]
  },
  {
   "cell_type": "code",
   "execution_count": 7,
   "id": "9fe57271-ed4c-485a-8335-b88e08b64a17",
   "metadata": {},
   "outputs": [],
   "source": [
    "def prediction_linear_function(X_train, w, b):\n",
    "    '''\n",
    "    X_train : is the data without the target variable\n",
    "    w : is the parameter of linear function\n",
    "    b : is also the parameter of linear function\n",
    "    return: we will return a list that contient the prediction of each row in the data sets \n",
    "    '''\n",
    "    return [i * w + b for i in X_train]  "
   ]
  },
  {
   "cell_type": "code",
   "execution_count": 8,
   "id": "c701c7e9-55bb-4c05-8ff8-40b3d42e7f02",
   "metadata": {},
   "outputs": [
    {
     "name": "stdout",
     "output_type": "stream",
     "text": [
      "[200.0, 300.0]\n"
     ]
    }
   ],
   "source": [
    "# execute the function:\n",
    "Y_hat = prediction_linear_function(X_train, w, b)\n",
    "print(Y_hat)"
   ]
  },
  {
   "cell_type": "markdown",
   "id": "2a0c85a6-6a77-4b70-a0d6-af1d3dab1c7d",
   "metadata": {},
   "source": [
    "7. we can calculate the error between the y and yhat or visualizing the difference :\n"
   ]
  },
  {
   "cell_type": "code",
   "execution_count": 9,
   "id": "854d90d8-fd17-48ba-92cc-eb35d4dae122",
   "metadata": {},
   "outputs": [
    {
     "data": {
      "image/png": "[encoded data removed]",
      "text/plain": [
       "<Figure size 640x480 with 1 Axes>"
      ]
     },
     "metadata": {},
     "output_type": "display_data"
    }
   ],
   "source": [
    "plt.plot(X_train, Y_train, c='b', label='the right values')\n",
    "plt.plot(X_train, Y_hat, c='r', label='the predictions')\n",
    "plt.title('the prices')\n",
    "plt.xlabel('the price of each house')\n",
    "plt.ylabel('the size of each house')\n",
    "plt.legend()\n",
    "plt.show()"
   ]
  },
  {
   "cell_type": "markdown",
   "id": "71d863c4-8553-4460-a8c6-de22e941afc3",
   "metadata": {},
   "source": [
    "###### Challenge: Try experimenting with different values of w and b. What should the values be for a line that fits our data?"
   ]
  },
  {
   "cell_type": "markdown",
   "id": "3c23e062-94ea-488a-a98b-c0f963d33a45",
   "metadata": {},
   "source": [
    "###### so so........................................."
   ]
  },
  {
   "cell_type": "markdown",
   "id": "6491ee07-9e96-4f47-8ea7-d418f67a0850",
   "metadata": {},
   "source": [
    "## implimenting the cost function (linear regression one dimension)"
   ]
  },
  {
   "cell_type": "markdown",
   "id": "ab89f71e-80ab-4365-8768-81b4d3b86617",
   "metadata": {},
   "source": [
    "## Cost Calculation\n",
    "\n",
    "The term \"cost\" in this task can be a bit confusing since the data involves housing prices. Here, \"cost\" refers to a measure of how accurately our model predicts the target price of the house. The term \"price\" is used for the housing data.\n",
    "\n",
    "The cost equation with a single variable is:\n",
    "\n",
    "\\[\n",
    "J(w, b) = \\ frac{1}{2m} \\sum_{i=1}^{m} \\left( f_{w,b}(x^{(i)}) - y^{(i)} \\right)^2\n",
    "\\]\n",
    "\n",
    "Where:\n",
    "\n",
    "\\[\n",
    "f_{w,b}(x) = wx + b\n",
    "\\]\n",
    "\n",
    "- \\( w \\) is the weight (slope),\n",
    "- \\( b \\) is the bias (intercept),\n",
    "- \\( x \\) represents the input features (e.g., house size),\n",
    "- \\( y \\) is the actual target value (house price),\n",
    "- \\( m \\) is the number of training examples.\n",
    "\n",
    "This equation measures the squared differences between the model's predicted house prices and the actual house prices, averaged over all the training examples.\n"
   ]
  },
  {
   "cell_type": "code",
   "execution_count": 10,
   "id": "c65ae5ae-53cd-49cb-ad06-0ccbaa02a1e7",
   "metadata": {},
   "outputs": [],
   "source": [
    "def cost_function(X, Y, w, b):\n",
    "    m = X.shape[0]\n",
    "    cost = 0\n",
    "    for i in range(m):\n",
    "        cost += (X[i] * w + b) - Y[i]\n",
    "    return (1/(2*m)) * cost\n",
    "        "
   ]
  },
  {
   "cell_type": "code",
   "execution_count": 11,
   "id": "1750be40-71b6-4bd2-995a-919b90118697",
   "metadata": {},
   "outputs": [
    {
     "name": "stdout",
     "output_type": "stream",
     "text": [
      "-75.0\n",
      "-60.0\n",
      "-7.5\n",
      "0.0\n"
     ]
    }
   ],
   "source": [
    "#examples\n",
    "print(cost_function(X_train, Y_train, 100, 100))\n",
    "print(cost_function(X_train, Y_train, 120, 100))\n",
    "print(cost_function(X_train, Y_train, 190, 100))\n",
    "print(cost_function(X_train, Y_train, 200, 100))"
   ]
  },
  {
   "cell_type": "markdown",
   "id": "52806701-bf0a-46bf-bea7-a5a854d2611e",
   "metadata": {},
   "source": [
    "## Gradient descent "
   ]
  },
  {
   "cell_type": "markdown",
   "id": "9ba8a0be-bfa6-4d30-82bb-2f4c7cdd22b5",
   "metadata": {},
   "source": [
    "we will calculate the gradient descente of the cost function to minimizing the cost:\n",
    "Algorithm:\n",
    " repete this algo while the values of the cost is not the min:\n",
    "   - inializing the parameters by default w = b =0\n",
    "   - calculing the gradient of each value( for w and also for b)\n",
    "   - updating the variables w and b\n"
   ]
  },
  {
   "cell_type": "markdown",
   "id": "6c969fd1-16cf-47df-ab5d-393e80f823c4",
   "metadata": {},
   "source": [
    "firsitly we will impliment a function that claculate the partial derivative"
   ]
  },
  {
   "cell_type": "code",
   "execution_count": 12,
   "id": "24254e60-fea2-4107-b899-6f92d1abfa50",
   "metadata": {},
   "outputs": [],
   "source": [
    "def compute_gradient(X, Y, w, b):\n",
    "    m = X.shape[0]\n",
    "    df_w = 0\n",
    "    df_b = 0\n",
    "    for i in range(m):\n",
    "        df_w += ((X[i] * w + b) - Y[i]) * X[i]\n",
    "        df_b += ((X[i] * w + b) - Y[i])\n",
    "    df_w = (1/m) * df_w\n",
    "    df_b = (1/m) * df_b\n",
    "\n",
    "    return [df_w, df_b]\n"
   ]
  },
  {
   "cell_type": "markdown",
   "id": "2399cc36-15a2-4697-863a-f45ef2ff79de",
   "metadata": {},
   "source": [
    "secondly we should have the function that calculate the cost every each step in gradient descente"
   ]
  },
  {
   "cell_type": "markdown",
   "id": "38055f7f-4693-471f-9780-52908694a7b4",
   "metadata": {},
   "source": [
    " finaly we will impliment the algorithm :\n"
   ]
  },
  {
   "cell_type": "code",
   "execution_count": 13,
   "id": "eaab0f3f-9bf1-45f0-906f-fa6939b0b483",
   "metadata": {},
   "outputs": [],
   "source": [
    "import math"
   ]
  },
  {
   "cell_type": "code",
   "execution_count": 17,
   "id": "2f48f53c-81f7-4b18-bb22-8f8653ff888b",
   "metadata": {},
   "outputs": [],
   "source": [
    "def gradient_descent(X, Y, w_in, b_in, alpha, num_iter, cost_function, compute_gradient):\n",
    "    '''\n",
    "    X : the data without the target variable\n",
    "    Y: the target variable\n",
    "    alpha: the learning rate\n",
    "    num_iter : the number of iterations\n",
    "    cost_function : -----\n",
    "    compute_gradient : --------------\n",
    "\n",
    "    '''\n",
    "    histo_cost = []\n",
    "    histo_parameters = []\n",
    "    w = w_in\n",
    "    b = b_in\n",
    "    \n",
    "    for i in range(num_iter):\n",
    "        #1. calculate the gradient :\n",
    "        df_w, df_b = compute_gradient(X, Y, w, b)\n",
    "\n",
    "        #2. update the parameters :\n",
    "        w = w - alpha * df_w\n",
    "        b = b - alpha * df_b\n",
    "\n",
    "        #3. append the parameters into lists:\n",
    "        histo_cost.append(cost_function(X, Y, w, b))\n",
    "        histo_parameters.append([w, b])\n",
    "\n",
    "        #4. print the semi result every interval:\n",
    "        if i % (math.ceil(num_iter / 10)) == 0:\n",
    "            print(f\"Iteration {i:4}: Cost {histo_cost[-1]:0.2e} \",\n",
    "                f\"df_w: {df_w: 0.3e}, df_b: {df_b: 0.3e} \",\n",
    "                f\"w: {w: 0.3e}, b:{b: 0.5e}\")\n",
    "\n",
    "\n",
    "    return w , b, histo_cost, histo_parameters\n",
    "\n",
    "    "
   ]
  },
  {
   "cell_type": "code",
   "execution_count": 18,
   "id": "93e39d27-2194-49c9-9c3e-374e5e255f1f",
   "metadata": {},
   "outputs": [
    {
     "name": "stdout",
     "output_type": "stream",
     "text": [
      "Iteration    0: Cost -1.93e+02  df_w: -6.500e+02, df_b: -4.000e+02  w:  6.500e+00, b: 4.00000e+00\n",
      "Iteration 1000000: Cost 3.55e-13  df_w: -1.421e-12, df_b:  7.105e-13  w:  2.000e+02, b: 1.00000e+02\n",
      "Iteration 2000000: Cost 3.55e-13  df_w: -1.421e-12, df_b:  7.105e-13  w:  2.000e+02, b: 1.00000e+02\n",
      "Iteration 3000000: Cost 3.55e-13  df_w: -1.421e-12, df_b:  7.105e-13  w:  2.000e+02, b: 1.00000e+02\n",
      "Iteration 4000000: Cost 3.55e-13  df_w: -1.421e-12, df_b:  7.105e-13  w:  2.000e+02, b: 1.00000e+02\n",
      "Iteration 5000000: Cost 3.55e-13  df_w: -1.421e-12, df_b:  7.105e-13  w:  2.000e+02, b: 1.00000e+02\n",
      "Iteration 6000000: Cost 3.55e-13  df_w: -1.421e-12, df_b:  7.105e-13  w:  2.000e+02, b: 1.00000e+02\n",
      "Iteration 7000000: Cost 3.55e-13  df_w: -1.421e-12, df_b:  7.105e-13  w:  2.000e+02, b: 1.00000e+02\n",
      "Iteration 8000000: Cost 3.55e-13  df_w: -1.421e-12, df_b:  7.105e-13  w:  2.000e+02, b: 1.00000e+02\n",
      "Iteration 9000000: Cost 3.55e-13  df_w: -1.421e-12, df_b:  7.105e-13  w:  2.000e+02, b: 1.00000e+02\n"
     ]
    }
   ],
   "source": [
    "#examples :\n",
    "w = 0\n",
    "b = 0\n",
    "w_final, b_final, J_hist, p_hist = gradient_descent(X=X_train, Y=Y_train, w_in=w, b_in=b, alpha=1e-2, num_iter=10000000, cost_function=cost_function, compute_gradient=compute_gradient)"
   ]
  },
  {
   "cell_type": "code",
   "execution_count": 20,
   "id": "7bd0f942-711c-40e2-b8f6-daad0d9f96ab",
   "metadata": {},
   "outputs": [
    {
     "name": "stdout",
     "output_type": "stream",
     "text": [
      "199.99999999999005\n",
      "100.00000000001563\n",
      "10000000\n",
      "10000000\n"
     ]
    }
   ],
   "source": [
    "#display the parameters\n",
    "print(w_final)\n",
    "print(b_final)\n",
    "print(len(J_hist))\n",
    "print(len(p_hist))"
   ]
  },
  {
   "cell_type": "markdown",
   "id": "56479532-0424-444e-bfe6-ce8276c06929",
   "metadata": {},
   "source": [
    "### making some predictions\n",
    "predict the price of :\n",
    "- 1000 m2\n",
    "- 1200 m2\n",
    "- 2000 m2"
   ]
  },
  {
   "cell_type": "code",
   "execution_count": 23,
   "id": "d95812f9-8f99-4f0b-81f2-3556530226aa",
   "metadata": {},
   "outputs": [
    {
     "name": "stdout",
     "output_type": "stream",
     "text": [
      "[380.0000000000017, 340.0000000000037, 659.9999999999877]\n"
     ]
    }
   ],
   "source": [
    "X_predict = [1.4, 1.2, 2.8]\n",
    "print(prediction_linear_function(X_predict, w_final, b_final))"
   ]
  },
  {
   "cell_type": "code",
   "execution_count": null,
   "id": "31a19f3e-c0b1-4007-9f92-0740827e807b",
   "metadata": {},
   "outputs": [],
   "source": []
  }
 ],
 "metadata": {
  "kernelspec": {
   "display_name": "Python 3 (ipykernel)",
   "language": "python",
   "name": "python3"
  },
  "language_info": {
   "codemirror_mode": {
    "name": "ipython",
    "version": 3
   },
   "file_extension": ".py",
   "mimetype": "text/x-python",
   "name": "python",
   "nbconvert_exporter": "python",
   "pygments_lexer": "ipython3",
   "version": "3.11.7"
  }
 },
 "nbformat": 4,
 "nbformat_minor": 5
}
